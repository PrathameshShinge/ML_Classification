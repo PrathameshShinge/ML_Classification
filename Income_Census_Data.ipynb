{
 "cells": [
  {
   "cell_type": "code",
   "execution_count": 1,
   "metadata": {},
   "outputs": [],
   "source": [
    "setwd(\"H:/PS/Logistic_Regression\")\n",
    "adultCensus = read.csv(\"adultcensus.csv\")\n"
   ]
  },
  {
   "cell_type": "code",
   "execution_count": 26,
   "metadata": {},
   "outputs": [
    {
     "name": "stderr",
     "output_type": "stream",
     "text": [
      "Loading required package: gplots\n",
      "\n",
      "Attaching package: 'gplots'\n",
      "\n",
      "The following object is masked from 'package:stats':\n",
      "\n",
      "    lowess\n",
      "\n"
     ]
    }
   ],
   "source": [
    "library(e1071)\n",
    "library(stringr)\n",
    "library(ggcorrplot)\n",
    "library(stringi)\n",
    "library(devtools)\n",
    "library(InformationValue)\n",
    "library(caret)\n",
    "library(tidyverse)\n",
    "library(caret)\n",
    "library(ROCR)\n",
    "options(scipen = 999)"
   ]
  },
  {
   "cell_type": "code",
   "execution_count": 4,
   "metadata": {},
   "outputs": [
    {
     "data": {
      "text/html": [
       "<dl class=dl-horizontal>\n",
       "\t<dt>age</dt>\n",
       "\t\t<dd>0</dd>\n",
       "\t<dt>workclass</dt>\n",
       "\t\t<dd>0</dd>\n",
       "\t<dt>fnlwgt</dt>\n",
       "\t\t<dd>0</dd>\n",
       "\t<dt>education</dt>\n",
       "\t\t<dd>0</dd>\n",
       "\t<dt>edu_num</dt>\n",
       "\t\t<dd>0</dd>\n",
       "\t<dt>marital_status</dt>\n",
       "\t\t<dd>0</dd>\n",
       "\t<dt>occupation</dt>\n",
       "\t\t<dd>0</dd>\n",
       "\t<dt>relationship</dt>\n",
       "\t\t<dd>0</dd>\n",
       "\t<dt>race</dt>\n",
       "\t\t<dd>0</dd>\n",
       "\t<dt>sex</dt>\n",
       "\t\t<dd>0</dd>\n",
       "\t<dt>capital.gain</dt>\n",
       "\t\t<dd>0</dd>\n",
       "\t<dt>capital.loss</dt>\n",
       "\t\t<dd>0</dd>\n",
       "\t<dt>hours_per_week</dt>\n",
       "\t\t<dd>0</dd>\n",
       "\t<dt>Native</dt>\n",
       "\t\t<dd>0</dd>\n",
       "\t<dt>income_class</dt>\n",
       "\t\t<dd>0</dd>\n",
       "</dl>\n"
      ],
      "text/latex": [
       "\\begin{description*}\n",
       "\\item[age] 0\n",
       "\\item[workclass] 0\n",
       "\\item[fnlwgt] 0\n",
       "\\item[education] 0\n",
       "\\item[edu\\textbackslash{}\\_num] 0\n",
       "\\item[marital\\textbackslash{}\\_status] 0\n",
       "\\item[occupation] 0\n",
       "\\item[relationship] 0\n",
       "\\item[race] 0\n",
       "\\item[sex] 0\n",
       "\\item[capital.gain] 0\n",
       "\\item[capital.loss] 0\n",
       "\\item[hours\\textbackslash{}\\_per\\textbackslash{}\\_week] 0\n",
       "\\item[Native] 0\n",
       "\\item[income\\textbackslash{}\\_class] 0\n",
       "\\end{description*}\n"
      ],
      "text/markdown": [
       "age\n",
       ":   0workclass\n",
       ":   0fnlwgt\n",
       ":   0education\n",
       ":   0edu_num\n",
       ":   0marital_status\n",
       ":   0occupation\n",
       ":   0relationship\n",
       ":   0race\n",
       ":   0sex\n",
       ":   0capital.gain\n",
       ":   0capital.loss\n",
       ":   0hours_per_week\n",
       ":   0Native\n",
       ":   0income_class\n",
       ":   0\n",
       "\n"
      ],
      "text/plain": [
       "           age      workclass         fnlwgt      education        edu_num \n",
       "             0              0              0              0              0 \n",
       "marital_status     occupation   relationship           race            sex \n",
       "             0              0              0              0              0 \n",
       "  capital.gain   capital.loss hours_per_week         Native   income_class \n",
       "             0              0              0              0              0 "
      ]
     },
     "metadata": {},
     "output_type": "display_data"
    }
   ],
   "source": [
    "#Check for missing data. The dataset has \"?\" question marks in place of missing values.\n",
    "#This has been taken care of using the following:\n",
    "#Getting rid of such records:\n",
    "sapply(adultCensus, function(x) sum(is.na(x)))\n",
    "#checking for each column:\n",
    "#adultCensus = adultCensus[adultCensus$occupation != \"?\", ]"
   ]
  },
  {
   "cell_type": "code",
   "execution_count": 5,
   "metadata": {},
   "outputs": [
    {
     "name": "stdout",
     "output_type": "stream",
     "text": [
      "[1] FALSE\n",
      "[1] FALSE\n",
      "[1] FALSE\n",
      "[1] FALSE\n",
      "[1] FALSE\n",
      "[1] FALSE\n",
      "[1] FALSE\n",
      "[1] FALSE\n",
      "[1] FALSE\n",
      "[1] FALSE\n",
      "[1] FALSE\n",
      "[1] FALSE\n",
      "[1] FALSE\n",
      "[1] FALSE\n",
      "[1] FALSE\n"
     ]
    }
   ],
   "source": [
    "#Checking through all the columns:\n",
    "No_ques_marks <- function(x, column){\n",
    "  for (column in colnames(adultCensus)){\n",
    "    print(\"?\" %in% x[, column])\n",
    "  }\n",
    "}\n",
    "No_ques_marks(adultCensus, colnames(adultCensus))"
   ]
  },
  {
   "cell_type": "code",
   "execution_count": 6,
   "metadata": {},
   "outputs": [
    {
     "data": {
      "text/html": [
       "<dl class=dl-horizontal>\n",
       "\t<dt>age</dt>\n",
       "\t\t<dd>'integer'</dd>\n",
       "\t<dt>workclass</dt>\n",
       "\t\t<dd>'factor'</dd>\n",
       "\t<dt>fnlwgt</dt>\n",
       "\t\t<dd>'integer'</dd>\n",
       "\t<dt>education</dt>\n",
       "\t\t<dd>'factor'</dd>\n",
       "\t<dt>edu_num</dt>\n",
       "\t\t<dd>'integer'</dd>\n",
       "\t<dt>marital_status</dt>\n",
       "\t\t<dd>'factor'</dd>\n",
       "\t<dt>occupation</dt>\n",
       "\t\t<dd>'factor'</dd>\n",
       "\t<dt>relationship</dt>\n",
       "\t\t<dd>'factor'</dd>\n",
       "\t<dt>race</dt>\n",
       "\t\t<dd>'factor'</dd>\n",
       "\t<dt>sex</dt>\n",
       "\t\t<dd>'factor'</dd>\n",
       "\t<dt>capital.gain</dt>\n",
       "\t\t<dd>'integer'</dd>\n",
       "\t<dt>capital.loss</dt>\n",
       "\t\t<dd>'integer'</dd>\n",
       "\t<dt>hours_per_week</dt>\n",
       "\t\t<dd>'integer'</dd>\n",
       "\t<dt>Native</dt>\n",
       "\t\t<dd>'factor'</dd>\n",
       "\t<dt>income_class</dt>\n",
       "\t\t<dd>'factor'</dd>\n",
       "</dl>\n"
      ],
      "text/latex": [
       "\\begin{description*}\n",
       "\\item[age] 'integer'\n",
       "\\item[workclass] 'factor'\n",
       "\\item[fnlwgt] 'integer'\n",
       "\\item[education] 'factor'\n",
       "\\item[edu\\textbackslash{}\\_num] 'integer'\n",
       "\\item[marital\\textbackslash{}\\_status] 'factor'\n",
       "\\item[occupation] 'factor'\n",
       "\\item[relationship] 'factor'\n",
       "\\item[race] 'factor'\n",
       "\\item[sex] 'factor'\n",
       "\\item[capital.gain] 'integer'\n",
       "\\item[capital.loss] 'integer'\n",
       "\\item[hours\\textbackslash{}\\_per\\textbackslash{}\\_week] 'integer'\n",
       "\\item[Native] 'factor'\n",
       "\\item[income\\textbackslash{}\\_class] 'factor'\n",
       "\\end{description*}\n"
      ],
      "text/markdown": [
       "age\n",
       ":   'integer'workclass\n",
       ":   'factor'fnlwgt\n",
       ":   'integer'education\n",
       ":   'factor'edu_num\n",
       ":   'integer'marital_status\n",
       ":   'factor'occupation\n",
       ":   'factor'relationship\n",
       ":   'factor'race\n",
       ":   'factor'sex\n",
       ":   'factor'capital.gain\n",
       ":   'integer'capital.loss\n",
       ":   'integer'hours_per_week\n",
       ":   'integer'Native\n",
       ":   'factor'income_class\n",
       ":   'factor'\n",
       "\n"
      ],
      "text/plain": [
       "           age      workclass         fnlwgt      education        edu_num \n",
       "     \"integer\"       \"factor\"      \"integer\"       \"factor\"      \"integer\" \n",
       "marital_status     occupation   relationship           race            sex \n",
       "      \"factor\"       \"factor\"       \"factor\"       \"factor\"       \"factor\" \n",
       "  capital.gain   capital.loss hours_per_week         Native   income_class \n",
       "     \"integer\"      \"integer\"      \"integer\"       \"factor\"       \"factor\" "
      ]
     },
     "metadata": {},
     "output_type": "display_data"
    }
   ],
   "source": [
    "#Viewing data type of each column:\n",
    "sapply(adultCensus, class)"
   ]
  },
  {
   "cell_type": "code",
   "execution_count": 7,
   "metadata": {},
   "outputs": [
    {
     "data": {
      "text/html": [
       "<table>\n",
       "<thead><tr><th scope=col>age</th><th scope=col>workclass</th><th scope=col>fnlwgt</th><th scope=col>education</th><th scope=col>edu_num</th><th scope=col>marital_status</th><th scope=col>occupation</th><th scope=col>relationship</th><th scope=col>race</th><th scope=col>sex</th><th scope=col>capital.gain</th><th scope=col>capital.loss</th><th scope=col>hours_per_week</th><th scope=col>Native</th><th scope=col>income_class</th></tr></thead>\n",
       "<tbody>\n",
       "\t<tr><td>39                                                        </td><td><span style=white-space:pre-wrap>State-gov       </span>  </td><td> 77516                                                    </td><td>Bachelors                                                 </td><td>13                                                        </td><td><span style=white-space:pre-wrap>Never-married     </span></td><td><span style=white-space:pre-wrap>Adm-clerical     </span> </td><td>Not-in-family                                             </td><td>White                                                     </td><td><span style=white-space:pre-wrap>Male  </span>            </td><td>2174                                                      </td><td>0                                                         </td><td>40                                                        </td><td>United-States                                             </td><td>&lt;=50K                                                  </td></tr>\n",
       "\t<tr><td>50                                                       </td><td>Self-emp-not-inc                                         </td><td> 83311                                                   </td><td>Bachelors                                                </td><td>13                                                       </td><td>Married-civ-spouse                                       </td><td><span style=white-space:pre-wrap>Exec-managerial  </span></td><td><span style=white-space:pre-wrap>Husband      </span>    </td><td>White                                                    </td><td><span style=white-space:pre-wrap>Male  </span>           </td><td><span style=white-space:pre-wrap>   0</span>             </td><td>0                                                        </td><td>13                                                       </td><td>United-States                                            </td><td>&lt;=50K                                                 </td></tr>\n",
       "\t<tr><td>38                                                        </td><td><span style=white-space:pre-wrap>Private         </span>  </td><td>215646                                                    </td><td><span style=white-space:pre-wrap>HS-grad  </span>         </td><td> 9                                                        </td><td><span style=white-space:pre-wrap>Divorced          </span></td><td>Handlers-cleaners                                         </td><td>Not-in-family                                             </td><td>White                                                     </td><td><span style=white-space:pre-wrap>Male  </span>            </td><td><span style=white-space:pre-wrap>   0</span>              </td><td>0                                                         </td><td>40                                                        </td><td>United-States                                             </td><td>&lt;=50K                                                  </td></tr>\n",
       "\t<tr><td>53                                                      </td><td><span style=white-space:pre-wrap>Private         </span></td><td>234721                                                  </td><td><span style=white-space:pre-wrap>11th     </span>       </td><td> 7                                                      </td><td>Married-civ-spouse                                      </td><td>Handlers-cleaners                                       </td><td><span style=white-space:pre-wrap>Husband      </span>   </td><td>Black                                                   </td><td><span style=white-space:pre-wrap>Male  </span>          </td><td><span style=white-space:pre-wrap>   0</span>            </td><td>0                                                       </td><td>40                                                      </td><td>United-States                                           </td><td>&lt;=50K                                                </td></tr>\n",
       "\t<tr><td>28                                                       </td><td><span style=white-space:pre-wrap>Private         </span> </td><td>338409                                                   </td><td>Bachelors                                                </td><td>13                                                       </td><td>Married-civ-spouse                                       </td><td><span style=white-space:pre-wrap>Prof-specialty   </span></td><td><span style=white-space:pre-wrap>Wife         </span>    </td><td>Black                                                    </td><td>Female                                                   </td><td><span style=white-space:pre-wrap>   0</span>             </td><td>0                                                        </td><td>40                                                       </td><td><span style=white-space:pre-wrap>Cuba         </span>    </td><td>&lt;=50K                                                 </td></tr>\n",
       "\t<tr><td>37                                                       </td><td><span style=white-space:pre-wrap>Private         </span> </td><td>284582                                                   </td><td><span style=white-space:pre-wrap>Masters  </span>        </td><td>14                                                       </td><td>Married-civ-spouse                                       </td><td><span style=white-space:pre-wrap>Exec-managerial  </span></td><td><span style=white-space:pre-wrap>Wife         </span>    </td><td>White                                                    </td><td>Female                                                   </td><td><span style=white-space:pre-wrap>   0</span>             </td><td>0                                                        </td><td>40                                                       </td><td>United-States                                            </td><td>&lt;=50K                                                 </td></tr>\n",
       "</tbody>\n",
       "</table>\n"
      ],
      "text/latex": [
       "\\begin{tabular}{r|lllllllllllllll}\n",
       " age & workclass & fnlwgt & education & edu\\_num & marital\\_status & occupation & relationship & race & sex & capital.gain & capital.loss & hours\\_per\\_week & Native & income\\_class\\\\\n",
       "\\hline\n",
       "\t 39                 & State-gov          &  77516             & Bachelors          & 13                 & Never-married      & Adm-clerical       & Not-in-family      & White              & Male               & 2174               & 0                  & 40                 & United-States      & <=50K             \\\\\n",
       "\t 50                 & Self-emp-not-inc   &  83311             & Bachelors          & 13                 & Married-civ-spouse & Exec-managerial    & Husband            & White              & Male               &    0               & 0                  & 13                 & United-States      & <=50K             \\\\\n",
       "\t 38                 & Private            & 215646             & HS-grad            &  9                 & Divorced           & Handlers-cleaners  & Not-in-family      & White              & Male               &    0               & 0                  & 40                 & United-States      & <=50K             \\\\\n",
       "\t 53                 & Private            & 234721             & 11th               &  7                 & Married-civ-spouse & Handlers-cleaners  & Husband            & Black              & Male               &    0               & 0                  & 40                 & United-States      & <=50K             \\\\\n",
       "\t 28                 & Private            & 338409             & Bachelors          & 13                 & Married-civ-spouse & Prof-specialty     & Wife               & Black              & Female             &    0               & 0                  & 40                 & Cuba               & <=50K             \\\\\n",
       "\t 37                 & Private            & 284582             & Masters            & 14                 & Married-civ-spouse & Exec-managerial    & Wife               & White              & Female             &    0               & 0                  & 40                 & United-States      & <=50K             \\\\\n",
       "\\end{tabular}\n"
      ],
      "text/markdown": [
       "\n",
       "age | workclass | fnlwgt | education | edu_num | marital_status | occupation | relationship | race | sex | capital.gain | capital.loss | hours_per_week | Native | income_class | \n",
       "|---|---|---|---|---|---|\n",
       "| 39                 | State-gov          |  77516             | Bachelors          | 13                 | Never-married      | Adm-clerical       | Not-in-family      | White              | Male               | 2174               | 0                  | 40                 | United-States      | <=50K              | \n",
       "| 50                 | Self-emp-not-inc   |  83311             | Bachelors          | 13                 | Married-civ-spouse | Exec-managerial    | Husband            | White              | Male               |    0               | 0                  | 13                 | United-States      | <=50K              | \n",
       "| 38                 | Private            | 215646             | HS-grad            |  9                 | Divorced           | Handlers-cleaners  | Not-in-family      | White              | Male               |    0               | 0                  | 40                 | United-States      | <=50K              | \n",
       "| 53                 | Private            | 234721             | 11th               |  7                 | Married-civ-spouse | Handlers-cleaners  | Husband            | Black              | Male               |    0               | 0                  | 40                 | United-States      | <=50K              | \n",
       "| 28                 | Private            | 338409             | Bachelors          | 13                 | Married-civ-spouse | Prof-specialty     | Wife               | Black              | Female             |    0               | 0                  | 40                 | Cuba               | <=50K              | \n",
       "| 37                 | Private            | 284582             | Masters            | 14                 | Married-civ-spouse | Exec-managerial    | Wife               | White              | Female             |    0               | 0                  | 40                 | United-States      | <=50K              | \n",
       "\n",
       "\n"
      ],
      "text/plain": [
       "  age workclass        fnlwgt education edu_num marital_status    \n",
       "1 39  State-gov         77516 Bachelors 13      Never-married     \n",
       "2 50  Self-emp-not-inc  83311 Bachelors 13      Married-civ-spouse\n",
       "3 38  Private          215646 HS-grad    9      Divorced          \n",
       "4 53  Private          234721 11th       7      Married-civ-spouse\n",
       "5 28  Private          338409 Bachelors 13      Married-civ-spouse\n",
       "6 37  Private          284582 Masters   14      Married-civ-spouse\n",
       "  occupation        relationship  race  sex    capital.gain capital.loss\n",
       "1 Adm-clerical      Not-in-family White Male   2174         0           \n",
       "2 Exec-managerial   Husband       White Male      0         0           \n",
       "3 Handlers-cleaners Not-in-family White Male      0         0           \n",
       "4 Handlers-cleaners Husband       Black Male      0         0           \n",
       "5 Prof-specialty    Wife          Black Female    0         0           \n",
       "6 Exec-managerial   Wife          White Female    0         0           \n",
       "  hours_per_week Native        income_class\n",
       "1 40             United-States <=50K       \n",
       "2 13             United-States <=50K       \n",
       "3 40             United-States <=50K       \n",
       "4 40             United-States <=50K       \n",
       "5 40             Cuba          <=50K       \n",
       "6 40             United-States <=50K       "
      ]
     },
     "metadata": {},
     "output_type": "display_data"
    }
   ],
   "source": [
    "head(adultCensus)"
   ]
  },
  {
   "cell_type": "code",
   "execution_count": 8,
   "metadata": {},
   "outputs": [
    {
     "data": {
      "text/html": [
       "<table>\n",
       "<thead><tr><th></th><th scope=col>age</th><th scope=col>workclass</th><th scope=col>fnlwgt</th><th scope=col>education</th><th scope=col>edu_num</th><th scope=col>marital_status</th><th scope=col>occupation</th><th scope=col>relationship</th><th scope=col>race</th><th scope=col>sex</th><th scope=col>capital.gain</th><th scope=col>capital.loss</th><th scope=col>hours_per_week</th><th scope=col>Native</th><th scope=col>income_class</th></tr></thead>\n",
       "<tbody>\n",
       "\t<tr><th scope=row>38320</th><td>48                                                        </td><td><span style=white-space:pre-wrap>Local-gov   </span>      </td><td>349230                                                    </td><td><span style=white-space:pre-wrap>Masters  </span>         </td><td>14                                                        </td><td><span style=white-space:pre-wrap>Divorced          </span></td><td><span style=white-space:pre-wrap>Other-service  </span>   </td><td>Not-in-family                                             </td><td><span style=white-space:pre-wrap>White             </span></td><td><span style=white-space:pre-wrap>Male  </span>            </td><td><span style=white-space:pre-wrap>   0</span>              </td><td>0                                                         </td><td>40                                                        </td><td>United-States                                             </td><td>&lt;=50K.                                                 </td></tr>\n",
       "\t<tr><th scope=row>38321</th><td>33                                                        </td><td><span style=white-space:pre-wrap>Private     </span>      </td><td>245211                                                    </td><td>Bachelors                                                 </td><td>13                                                        </td><td><span style=white-space:pre-wrap>Never-married     </span></td><td>Prof-specialty                                            </td><td><span style=white-space:pre-wrap>Own-child    </span>     </td><td><span style=white-space:pre-wrap>White             </span></td><td><span style=white-space:pre-wrap>Male  </span>            </td><td><span style=white-space:pre-wrap>   0</span>              </td><td>0                                                         </td><td>40                                                        </td><td>United-States                                             </td><td>&lt;=50K.                                                 </td></tr>\n",
       "\t<tr><th scope=row>38322</th><td>39                                                        </td><td><span style=white-space:pre-wrap>Private     </span>      </td><td>215419                                                    </td><td>Bachelors                                                 </td><td>13                                                        </td><td><span style=white-space:pre-wrap>Divorced          </span></td><td>Prof-specialty                                            </td><td>Not-in-family                                             </td><td><span style=white-space:pre-wrap>White             </span></td><td>Female                                                    </td><td><span style=white-space:pre-wrap>   0</span>              </td><td>0                                                         </td><td>36                                                        </td><td>United-States                                             </td><td>&lt;=50K.                                                 </td></tr>\n",
       "\t<tr><th scope=row>38323</th><td>38                                                        </td><td><span style=white-space:pre-wrap>Private     </span>      </td><td>374983                                                    </td><td>Bachelors                                                 </td><td>13                                                        </td><td>Married-civ-spouse                                        </td><td>Prof-specialty                                            </td><td><span style=white-space:pre-wrap>Husband      </span>     </td><td><span style=white-space:pre-wrap>White             </span></td><td><span style=white-space:pre-wrap>Male  </span>            </td><td><span style=white-space:pre-wrap>   0</span>              </td><td>0                                                         </td><td>50                                                        </td><td>United-States                                             </td><td>&lt;=50K.                                                 </td></tr>\n",
       "\t<tr><th scope=row>38324</th><td>44                                                        </td><td><span style=white-space:pre-wrap>Private     </span>      </td><td> 83891                                                    </td><td>Bachelors                                                 </td><td>13                                                        </td><td><span style=white-space:pre-wrap>Divorced          </span></td><td><span style=white-space:pre-wrap>Adm-clerical   </span>   </td><td><span style=white-space:pre-wrap>Own-child    </span>     </td><td>Asian-Pac-Islander                                        </td><td><span style=white-space:pre-wrap>Male  </span>            </td><td>5455                                                      </td><td>0                                                         </td><td>40                                                        </td><td>United-States                                             </td><td>&lt;=50K.                                                 </td></tr>\n",
       "\t<tr><th scope=row>38325</th><td>35                                                        </td><td>Self-emp-inc                                              </td><td>182148                                                    </td><td>Bachelors                                                 </td><td>13                                                        </td><td>Married-civ-spouse                                        </td><td>Exec-managerial                                           </td><td><span style=white-space:pre-wrap>Husband      </span>     </td><td><span style=white-space:pre-wrap>White             </span></td><td><span style=white-space:pre-wrap>Male  </span>            </td><td><span style=white-space:pre-wrap>   0</span>              </td><td>0                                                         </td><td>60                                                        </td><td>United-States                                             </td><td>&gt;50K.                                                  </td></tr>\n",
       "</tbody>\n",
       "</table>\n"
      ],
      "text/latex": [
       "\\begin{tabular}{r|lllllllllllllll}\n",
       "  & age & workclass & fnlwgt & education & edu\\_num & marital\\_status & occupation & relationship & race & sex & capital.gain & capital.loss & hours\\_per\\_week & Native & income\\_class\\\\\n",
       "\\hline\n",
       "\t38320 & 48                 & Local-gov          & 349230             & Masters            & 14                 & Divorced           & Other-service      & Not-in-family      & White              & Male               &    0               & 0                  & 40                 & United-States      & <=50K.            \\\\\n",
       "\t38321 & 33                 & Private            & 245211             & Bachelors          & 13                 & Never-married      & Prof-specialty     & Own-child          & White              & Male               &    0               & 0                  & 40                 & United-States      & <=50K.            \\\\\n",
       "\t38322 & 39                 & Private            & 215419             & Bachelors          & 13                 & Divorced           & Prof-specialty     & Not-in-family      & White              & Female             &    0               & 0                  & 36                 & United-States      & <=50K.            \\\\\n",
       "\t38323 & 38                 & Private            & 374983             & Bachelors          & 13                 & Married-civ-spouse & Prof-specialty     & Husband            & White              & Male               &    0               & 0                  & 50                 & United-States      & <=50K.            \\\\\n",
       "\t38324 & 44                 & Private            &  83891             & Bachelors          & 13                 & Divorced           & Adm-clerical       & Own-child          & Asian-Pac-Islander & Male               & 5455               & 0                  & 40                 & United-States      & <=50K.            \\\\\n",
       "\t38325 & 35                 & Self-emp-inc       & 182148             & Bachelors          & 13                 & Married-civ-spouse & Exec-managerial    & Husband            & White              & Male               &    0               & 0                  & 60                 & United-States      & >50K.             \\\\\n",
       "\\end{tabular}\n"
      ],
      "text/markdown": [
       "\n",
       "| <!--/--> | age | workclass | fnlwgt | education | edu_num | marital_status | occupation | relationship | race | sex | capital.gain | capital.loss | hours_per_week | Native | income_class | \n",
       "|---|---|---|---|---|---|\n",
       "| 38320 | 48                 | Local-gov          | 349230             | Masters            | 14                 | Divorced           | Other-service      | Not-in-family      | White              | Male               |    0               | 0                  | 40                 | United-States      | <=50K.             | \n",
       "| 38321 | 33                 | Private            | 245211             | Bachelors          | 13                 | Never-married      | Prof-specialty     | Own-child          | White              | Male               |    0               | 0                  | 40                 | United-States      | <=50K.             | \n",
       "| 38322 | 39                 | Private            | 215419             | Bachelors          | 13                 | Divorced           | Prof-specialty     | Not-in-family      | White              | Female             |    0               | 0                  | 36                 | United-States      | <=50K.             | \n",
       "| 38323 | 38                 | Private            | 374983             | Bachelors          | 13                 | Married-civ-spouse | Prof-specialty     | Husband            | White              | Male               |    0               | 0                  | 50                 | United-States      | <=50K.             | \n",
       "| 38324 | 44                 | Private            |  83891             | Bachelors          | 13                 | Divorced           | Adm-clerical       | Own-child          | Asian-Pac-Islander | Male               | 5455               | 0                  | 40                 | United-States      | <=50K.             | \n",
       "| 38325 | 35                 | Self-emp-inc       | 182148             | Bachelors          | 13                 | Married-civ-spouse | Exec-managerial    | Husband            | White              | Male               |    0               | 0                  | 60                 | United-States      | >50K.              | \n",
       "\n",
       "\n"
      ],
      "text/plain": [
       "      age workclass    fnlwgt education edu_num marital_status    \n",
       "38320 48  Local-gov    349230 Masters   14      Divorced          \n",
       "38321 33  Private      245211 Bachelors 13      Never-married     \n",
       "38322 39  Private      215419 Bachelors 13      Divorced          \n",
       "38323 38  Private      374983 Bachelors 13      Married-civ-spouse\n",
       "38324 44  Private       83891 Bachelors 13      Divorced          \n",
       "38325 35  Self-emp-inc 182148 Bachelors 13      Married-civ-spouse\n",
       "      occupation      relationship  race               sex    capital.gain\n",
       "38320 Other-service   Not-in-family White              Male      0        \n",
       "38321 Prof-specialty  Own-child     White              Male      0        \n",
       "38322 Prof-specialty  Not-in-family White              Female    0        \n",
       "38323 Prof-specialty  Husband       White              Male      0        \n",
       "38324 Adm-clerical    Own-child     Asian-Pac-Islander Male   5455        \n",
       "38325 Exec-managerial Husband       White              Male      0        \n",
       "      capital.loss hours_per_week Native        income_class\n",
       "38320 0            40             United-States <=50K.      \n",
       "38321 0            40             United-States <=50K.      \n",
       "38322 0            36             United-States <=50K.      \n",
       "38323 0            50             United-States <=50K.      \n",
       "38324 0            40             United-States <=50K.      \n",
       "38325 0            60             United-States >50K.       "
      ]
     },
     "metadata": {},
     "output_type": "display_data"
    }
   ],
   "source": [
    "tail(adultCensus)"
   ]
  },
  {
   "cell_type": "code",
   "execution_count": 9,
   "metadata": {},
   "outputs": [
    {
     "data": {
      "text/html": [
       "<ol class=list-inline>\n",
       "\t<li>&lt;=50K</li>\n",
       "\t<li>&gt;50K</li>\n",
       "\t<li>&lt;=50K.</li>\n",
       "\t<li>&gt;50K.</li>\n",
       "</ol>\n",
       "\n",
       "<details>\n",
       "\t<summary style=display:list-item;cursor:pointer>\n",
       "\t\t<strong>Levels</strong>:\n",
       "\t</summary>\n",
       "\t<ol class=list-inline>\n",
       "\t\t<li>'&lt;=50K'</li>\n",
       "\t\t<li>'&lt;=50K.'</li>\n",
       "\t\t<li>'&gt;50K'</li>\n",
       "\t\t<li>'&gt;50K.'</li>\n",
       "\t</ol>\n",
       "</details>"
      ],
      "text/latex": [
       "\\begin{enumerate*}\n",
       "\\item <=50K\n",
       "\\item >50K\n",
       "\\item <=50K.\n",
       "\\item >50K.\n",
       "\\end{enumerate*}\n",
       "\n",
       "\\emph{Levels}: \\begin{enumerate*}\n",
       "\\item '<=50K'\n",
       "\\item '<=50K.'\n",
       "\\item '>50K'\n",
       "\\item '>50K.'\n",
       "\\end{enumerate*}\n"
      ],
      "text/markdown": [
       "1. &lt;=50K\n",
       "2. &gt;50K\n",
       "3. &lt;=50K.\n",
       "4. &gt;50K.\n",
       "\n",
       "\n",
       "\n",
       "**Levels**: 1. '&lt;=50K'\n",
       "2. '&lt;=50K.'\n",
       "3. '&gt;50K'\n",
       "4. '&gt;50K.'\n",
       "\n",
       "\n"
      ],
      "text/plain": [
       "[1] <=50K  >50K   <=50K. >50K. \n",
       "Levels: <=50K <=50K. >50K >50K."
      ]
     },
     "metadata": {},
     "output_type": "display_data"
    }
   ],
   "source": [
    "#Label Encoding for outcome variable:\n",
    "unique(adultCensus$income_class)\n",
    "adultCensus$income_class[adultCensus$income_class == \"<=50K.\"] <- \"<=50K\"\n",
    "adultCensus$income_class[adultCensus$income_class == \">50K.\"] <- \">50K\""
   ]
  },
  {
   "cell_type": "code",
   "execution_count": 10,
   "metadata": {},
   "outputs": [
    {
     "data": {
      "text/html": [
       "<ol class=list-inline>\n",
       "\t<li>0</li>\n",
       "\t<li>1</li>\n",
       "</ol>\n",
       "\n",
       "<details>\n",
       "\t<summary style=display:list-item;cursor:pointer>\n",
       "\t\t<strong>Levels</strong>:\n",
       "\t</summary>\n",
       "\t<ol class=list-inline>\n",
       "\t\t<li>'0'</li>\n",
       "\t\t<li>'1'</li>\n",
       "\t</ol>\n",
       "</details>"
      ],
      "text/latex": [
       "\\begin{enumerate*}\n",
       "\\item 0\n",
       "\\item 1\n",
       "\\end{enumerate*}\n",
       "\n",
       "\\emph{Levels}: \\begin{enumerate*}\n",
       "\\item '0'\n",
       "\\item '1'\n",
       "\\end{enumerate*}\n"
      ],
      "text/markdown": [
       "1. 0\n",
       "2. 1\n",
       "\n",
       "\n",
       "\n",
       "**Levels**: 1. '0'\n",
       "2. '1'\n",
       "\n",
       "\n"
      ],
      "text/plain": [
       "[1] 0 1\n",
       "Levels: 0 1"
      ]
     },
     "metadata": {},
     "output_type": "display_data"
    }
   ],
   "source": [
    "adultCensus$class <- factor(adultCensus$income_class,\n",
    "                   levels = c('<=50K','>50K'),\n",
    "                   labels = c(0,1))\n",
    "#Verifying that the outcome variable is binary\n",
    "unique(adultCensus$class)"
   ]
  },
  {
   "cell_type": "code",
   "execution_count": 11,
   "metadata": {},
   "outputs": [
    {
     "data": {
      "text/html": [
       "<table>\n",
       "<thead><tr><th></th><th scope=col>age</th><th scope=col>fnlwgt</th><th scope=col>capital.gain</th><th scope=col>capital.loss</th><th scope=col>hours_per_week</th></tr></thead>\n",
       "<tbody>\n",
       "\t<tr><th scope=row>age</th><td> 1.00000000 </td><td>-0.075607324</td><td> 0.076862188</td><td> 0.05804258 </td><td> 0.10144964 </td></tr>\n",
       "\t<tr><th scope=row>fnlwgt</th><td>-0.07560732 </td><td> 1.000000000</td><td>-0.002882717</td><td>-0.00385697 </td><td>-0.01569907 </td></tr>\n",
       "\t<tr><th scope=row>capital.gain</th><td> 0.07686219 </td><td>-0.002882717</td><td> 1.000000000</td><td>-0.03185829 </td><td> 0.08508155 </td></tr>\n",
       "\t<tr><th scope=row>capital.loss</th><td> 0.05804258 </td><td>-0.003856970</td><td>-0.031858291</td><td> 1.00000000 </td><td> 0.05567208 </td></tr>\n",
       "\t<tr><th scope=row>hours_per_week</th><td> 0.10144964 </td><td>-0.015699068</td><td> 0.085081554</td><td> 0.05567208 </td><td> 1.00000000 </td></tr>\n",
       "</tbody>\n",
       "</table>\n"
      ],
      "text/latex": [
       "\\begin{tabular}{r|lllll}\n",
       "  & age & fnlwgt & capital.gain & capital.loss & hours\\_per\\_week\\\\\n",
       "\\hline\n",
       "\tage &  1.00000000  & -0.075607324 &  0.076862188 &  0.05804258  &  0.10144964 \\\\\n",
       "\tfnlwgt & -0.07560732  &  1.000000000 & -0.002882717 & -0.00385697  & -0.01569907 \\\\\n",
       "\tcapital.gain &  0.07686219  & -0.002882717 &  1.000000000 & -0.03185829  &  0.08508155 \\\\\n",
       "\tcapital.loss &  0.05804258  & -0.003856970 & -0.031858291 &  1.00000000  &  0.05567208 \\\\\n",
       "\thours\\_per\\_week &  0.10144964  & -0.015699068 &  0.085081554 &  0.05567208  &  1.00000000 \\\\\n",
       "\\end{tabular}\n"
      ],
      "text/markdown": [
       "\n",
       "| <!--/--> | age | fnlwgt | capital.gain | capital.loss | hours_per_week | \n",
       "|---|---|---|---|---|\n",
       "| age |  1.00000000  | -0.075607324 |  0.076862188 |  0.05804258  |  0.10144964  | \n",
       "| fnlwgt | -0.07560732  |  1.000000000 | -0.002882717 | -0.00385697  | -0.01569907  | \n",
       "| capital.gain |  0.07686219  | -0.002882717 |  1.000000000 | -0.03185829  |  0.08508155  | \n",
       "| capital.loss |  0.05804258  | -0.003856970 | -0.031858291 |  1.00000000  |  0.05567208  | \n",
       "| hours_per_week |  0.10144964  | -0.015699068 |  0.085081554 |  0.05567208  |  1.00000000  | \n",
       "\n",
       "\n"
      ],
      "text/plain": [
       "               age         fnlwgt       capital.gain capital.loss\n",
       "age             1.00000000 -0.075607324  0.076862188  0.05804258 \n",
       "fnlwgt         -0.07560732  1.000000000 -0.002882717 -0.00385697 \n",
       "capital.gain    0.07686219 -0.002882717  1.000000000 -0.03185829 \n",
       "capital.loss    0.05804258 -0.003856970 -0.031858291  1.00000000 \n",
       "hours_per_week  0.10144964 -0.015699068  0.085081554  0.05567208 \n",
       "               hours_per_week\n",
       "age             0.10144964   \n",
       "fnlwgt         -0.01569907   \n",
       "capital.gain    0.08508155   \n",
       "capital.loss    0.05567208   \n",
       "hours_per_week  1.00000000   "
      ]
     },
     "metadata": {},
     "output_type": "display_data"
    },
    {
     "data": {},
     "metadata": {},
     "output_type": "display_data"
    },
    {
     "data": {
      "image/png": "[encoded data removed]",
      "text/plain": [
       "plot without title"
      ]
     },
     "metadata": {},
     "output_type": "display_data"
    }
   ],
   "source": [
    "#Collecting only continuous variables:\n",
    "acNumerical <- adultCensus[c(1,3,11,12,13)]\n",
    "acNumerical <- scale(acNumerical)\n",
    "acNumerical <- data.frame(acNumerical)\n",
    "#Visualizing correlation amongst continuous variables:\n",
    "acNum_cor <- cor(acNumerical)\n",
    "acNum_cor\n",
    "ggcorrplot(acNum_cor, lab = TRUE)"
   ]
  },
  {
   "cell_type": "code",
   "execution_count": 12,
   "metadata": {},
   "outputs": [
    {
     "data": {
      "text/plain": [
       "             Df  Pillai approx F num Df den Df                Pr(>F)    \n",
       "class         1 0.14782   1329.3      5  38319 < 0.00000000000000022 ***\n",
       "Residuals 38323                                                         \n",
       "---\n",
       "Signif. codes:  0 '***' 0.001 '**' 0.01 '*' 0.05 '.' 0.1 ' ' 1"
      ]
     },
     "metadata": {},
     "output_type": "display_data"
    },
    {
     "data": {
      "text/plain": [
       " Response age :\n",
       "               Df Sum Sq Mean Sq F value                Pr(>F)    \n",
       "class           1   2087 2086.80  2206.9 < 0.00000000000000022 ***\n",
       "Residuals   38323  36237    0.95                                  \n",
       "---\n",
       "Signif. codes:  0 '***' 0.001 '**' 0.01 '*' 0.05 '.' 0.1 ' ' 1\n",
       "\n",
       " Response fnlwgt :\n",
       "               Df Sum Sq Mean Sq F value Pr(>F)\n",
       "class           1      1  1.1361  1.1361 0.2865\n",
       "Residuals   38323  38323  1.0000               \n",
       "\n",
       " Response capital.gain :\n",
       "               Df Sum Sq Mean Sq F value                Pr(>F)    \n",
       "class           1   1855 1854.68  1948.9 < 0.00000000000000022 ***\n",
       "Residuals   38323  36469    0.95                                  \n",
       "---\n",
       "Signif. codes:  0 '***' 0.001 '**' 0.01 '*' 0.05 '.' 0.1 ' ' 1\n",
       "\n",
       " Response capital.loss :\n",
       "               Df Sum Sq Mean Sq F value                Pr(>F)    \n",
       "class           1    830  829.80  848.14 < 0.00000000000000022 ***\n",
       "Residuals   38323  37494    0.98                                  \n",
       "---\n",
       "Signif. codes:  0 '***' 0.001 '**' 0.01 '*' 0.05 '.' 0.1 ' ' 1\n",
       "\n",
       " Response hours_per_week :\n",
       "               Df Sum Sq Mean Sq F value                Pr(>F)    \n",
       "class           1   1931 1930.53  2032.9 < 0.00000000000000022 ***\n",
       "Residuals   38323  36393    0.95                                  \n",
       "---\n",
       "Signif. codes:  0 '***' 0.001 '**' 0.01 '*' 0.05 '.' 0.1 ' ' 1\n"
      ]
     },
     "metadata": {},
     "output_type": "display_data"
    }
   ],
   "source": [
    "acNumerical$class <- adultCensus$class\n",
    "#checking correlations with continuous variables\n",
    "ConVar_cor <- manova(cbind(age, fnlwgt, capital.gain, capital.loss, hours_per_week) ~ class, data = acNumerical)\n",
    "summary(ConVar_cor)\n",
    "summary.aov(ConVar_cor)\n",
    "#Thus, variable \"fnlwgt\" fails to have a significant impact on income class. We exclude this variable from our model"
   ]
  },
  {
   "cell_type": "code",
   "execution_count": 15,
   "metadata": {},
   "outputs": [
    {
     "name": "stdout",
     "output_type": "stream",
     "text": [
      "[1] \"adultCensus:\"\n"
     ]
    },
    {
     "data": {
      "text/html": [
       "<table>\n",
       "<thead><tr><th scope=col>age</th><th scope=col>workclass</th><th scope=col>fnlwgt</th><th scope=col>education</th><th scope=col>edu_num</th><th scope=col>marital_status</th><th scope=col>occupation</th><th scope=col>relationship</th><th scope=col>race</th><th scope=col>sex</th><th scope=col>capital.gain</th><th scope=col>capital.loss</th><th scope=col>hours_per_week</th><th scope=col>Native</th><th scope=col>income_class</th><th scope=col>class</th></tr></thead>\n",
       "<tbody>\n",
       "\t<tr><td>39           </td><td>State-gov    </td><td>77516        </td><td>Bachelors    </td><td>13           </td><td>Never-married</td><td>Adm-clerical </td><td>Not-in-family</td><td>White        </td><td>Male         </td><td>2174         </td><td>0            </td><td>40           </td><td>United-States</td><td>&lt;=50K     </td><td>0            </td></tr>\n",
       "</tbody>\n",
       "</table>\n"
      ],
      "text/latex": [
       "\\begin{tabular}{r|llllllllllllllll}\n",
       " age & workclass & fnlwgt & education & edu\\_num & marital\\_status & occupation & relationship & race & sex & capital.gain & capital.loss & hours\\_per\\_week & Native & income\\_class & class\\\\\n",
       "\\hline\n",
       "\t 39            & State-gov     & 77516         & Bachelors     & 13            & Never-married & Adm-clerical  & Not-in-family & White         & Male          & 2174          & 0             & 40            & United-States & <=50K         & 0            \\\\\n",
       "\\end{tabular}\n"
      ],
      "text/markdown": [
       "\n",
       "age | workclass | fnlwgt | education | edu_num | marital_status | occupation | relationship | race | sex | capital.gain | capital.loss | hours_per_week | Native | income_class | class | \n",
       "|---|\n",
       "| 39            | State-gov     | 77516         | Bachelors     | 13            | Never-married | Adm-clerical  | Not-in-family | White         | Male          | 2174          | 0             | 40            | United-States | <=50K         | 0             | \n",
       "\n",
       "\n"
      ],
      "text/plain": [
       "  age workclass fnlwgt education edu_num marital_status occupation  \n",
       "1 39  State-gov 77516  Bachelors 13      Never-married  Adm-clerical\n",
       "  relationship  race  sex  capital.gain capital.loss hours_per_week\n",
       "1 Not-in-family White Male 2174         0            40            \n",
       "  Native        income_class class\n",
       "1 United-States <=50K        0    "
      ]
     },
     "metadata": {},
     "output_type": "display_data"
    },
    {
     "name": "stdout",
     "output_type": "stream",
     "text": [
      "[1] \"ConVarScaled:\"\n"
     ]
    },
    {
     "data": {
      "text/html": [
       "<table>\n",
       "<thead><tr><th scope=col>age</th><th scope=col>workclass</th><th scope=col>education</th><th scope=col>marital_status</th><th scope=col>occupation</th><th scope=col>relationship</th><th scope=col>race</th><th scope=col>sex</th><th scope=col>capital.gain</th><th scope=col>capital.loss</th><th scope=col>hours_per_week</th><th scope=col>Native</th><th scope=col>class</th></tr></thead>\n",
       "<tbody>\n",
       "\t<tr><td>39           </td><td>State-gov    </td><td>Bachelors    </td><td>Never-married</td><td>Adm-clerical </td><td>Not-in-family</td><td>White        </td><td>Male         </td><td>2174         </td><td>0            </td><td>40           </td><td>United-States</td><td>0            </td></tr>\n",
       "</tbody>\n",
       "</table>\n"
      ],
      "text/latex": [
       "\\begin{tabular}{r|lllllllllllll}\n",
       " age & workclass & education & marital\\_status & occupation & relationship & race & sex & capital.gain & capital.loss & hours\\_per\\_week & Native & class\\\\\n",
       "\\hline\n",
       "\t 39            & State-gov     & Bachelors     & Never-married & Adm-clerical  & Not-in-family & White         & Male          & 2174          & 0             & 40            & United-States & 0            \\\\\n",
       "\\end{tabular}\n"
      ],
      "text/markdown": [
       "\n",
       "age | workclass | education | marital_status | occupation | relationship | race | sex | capital.gain | capital.loss | hours_per_week | Native | class | \n",
       "|---|\n",
       "| 39            | State-gov     | Bachelors     | Never-married | Adm-clerical  | Not-in-family | White         | Male          | 2174          | 0             | 40            | United-States | 0             | \n",
       "\n",
       "\n"
      ],
      "text/plain": [
       "  age workclass education marital_status occupation   relationship  race  sex \n",
       "1 39  State-gov Bachelors Never-married  Adm-clerical Not-in-family White Male\n",
       "  capital.gain capital.loss hours_per_week Native        class\n",
       "1 2174         0            40             United-States 0    "
      ]
     },
     "metadata": {},
     "output_type": "display_data"
    }
   ],
   "source": [
    "#We first run the model with selected continuous and all categorical variables.\n",
    "#Deleting edu_num as it is redundant, along with income_class and fnlwgt.\n",
    "print(\"adultCensus:\")\n",
    "head(adultCensus,1)\n",
    "ConVarScaled <- adultCensus[-c(3,5,15)]\n",
    "print(\"ConVarScaled:\")\n",
    "head(ConVarScaled,1)\n",
    "#Feature Scaling for continuous Variables:  \n",
    "ConVarScaled[c(1,9,10,11)] = scale(ConVarScaled[c(1,9,10,11)])"
   ]
  },
  {
   "cell_type": "code",
   "execution_count": 16,
   "metadata": {},
   "outputs": [
    {
     "name": "stderr",
     "output_type": "stream",
     "text": [
      "Warning message:\n",
      "\"glm.fit: fitted probabilities numerically 0 or 1 occurred\""
     ]
    },
    {
     "data": {
      "text/plain": [
       "\n",
       "Call:\n",
       "glm(formula = class ~ ., family = binomial, data = ConVarScaled, \n",
       "    control = list(maxit = 50))\n",
       "\n",
       "Deviance Residuals: \n",
       "    Min       1Q   Median       3Q      Max  \n",
       "-4.9997  -0.5159  -0.1912  -0.0244   3.6125  \n",
       "\n",
       "Coefficients:\n",
       "                                     Estimate Std. Error z value\n",
       "(Intercept)                          -4.59900    0.73554  -6.253\n",
       "age                                   0.32571    0.01999  16.297\n",
       "workclassLocal-gov                   -0.62508    0.10026  -6.235\n",
       "workclassPrivate                     -0.47600    0.08372  -5.686\n",
       "workclassSelf-emp-inc                -0.33914    0.10967  -3.092\n",
       "workclassSelf-emp-not-inc            -1.01410    0.09804 -10.344\n",
       "workclassState-gov                   -0.77512    0.11052  -7.013\n",
       "workclassWithout-pay                 -0.96486    0.82880  -1.164\n",
       "education11th                         0.01061    0.18716   0.057\n",
       "education12th                         0.30219    0.24367   1.240\n",
       "education1st-4th                     -0.47938    0.45731  -1.048\n",
       "education5th-6th                     -0.40910    0.30745  -1.331\n",
       "education7th-8th                     -0.53233    0.21223  -2.508\n",
       "education9th                         -0.44654    0.23931  -1.866\n",
       "educationAssoc-acdm                   1.31148    0.15813   8.294\n",
       "educationAssoc-voc                    1.19815    0.15241   7.861\n",
       "educationBachelors                    1.87625    0.14133  13.276\n",
       "educationDoctorate                    2.71407    0.19628  13.828\n",
       "educationHS-grad                      0.73983    0.13737   5.385\n",
       "educationMasters                      2.19795    0.15081  14.574\n",
       "educationPreschool                   -4.77253    3.36800  -1.417\n",
       "educationProf-school                  2.78266    0.18583  14.974\n",
       "educationSome-college                 1.08981    0.13958   7.808\n",
       "marital_statusMarried-AF-spouse       2.81511    0.54261   5.188\n",
       "marital_statusMarried-civ-spouse      2.38277    0.24845   9.590\n",
       "marital_statusMarried-spouse-absent   0.16121    0.20351   0.792\n",
       "marital_statusNever-married          -0.37935    0.07985  -4.751\n",
       "marital_statusSeparated               0.08373    0.14589   0.574\n",
       "marital_statusWidowed                 0.12706    0.14417   0.881\n",
       "occupationArmed-Forces                0.18088    0.93899   0.193\n",
       "occupationCraft-repair                0.08437    0.07111   1.186\n",
       "occupationExec-managerial             0.79515    0.06871  11.573\n",
       "occupationFarming-fishing            -0.98699    0.12578  -7.847\n",
       "occupationHandlers-cleaners          -0.63531    0.12489  -5.087\n",
       "occupationMachine-op-inspct          -0.29599    0.09112  -3.248\n",
       "occupationOther-service              -0.84322    0.10501  -8.030\n",
       "occupationPriv-house-serv            -1.88055    0.76751  -2.450\n",
       "occupationProf-specialty              0.56566    0.07233   7.821\n",
       "occupationProtective-serv             0.46937    0.11166   4.204\n",
       "occupationSales                       0.26073    0.07314   3.565\n",
       "occupationTech-support                0.56361    0.09808   5.747\n",
       "occupationTransport-moving           -0.05033    0.08777  -0.573\n",
       "relationshipNot-in-family             0.55156    0.24570   2.245\n",
       "relationshipOther-relative           -0.56635    0.22212  -2.550\n",
       "relationshipOwn-child                -0.48327    0.23991  -2.014\n",
       "relationshipUnmarried                 0.34579    0.26060   1.327\n",
       "relationshipWife                      1.10635    0.09283  11.917\n",
       "raceAsian-Pac-Islander                0.79627    0.24839   3.206\n",
       "raceBlack                             0.30481    0.20528   1.485\n",
       "raceOther                             0.41080    0.30564   1.344\n",
       "raceWhite                             0.49536    0.19496   2.541\n",
       "sexMale                               0.70873    0.07081  10.009\n",
       "capital.gain                          2.36146    0.07095  33.286\n",
       "capital.loss                          0.26223    0.01377  19.045\n",
       "hours_per_week                        0.34083    0.01795  18.992\n",
       "NativeCanada                          0.51805    0.67522   0.767\n",
       "NativeChina                          -0.92550    0.68863  -1.344\n",
       "NativeColumbia                       -2.16540    0.91216  -2.374\n",
       "NativeCuba                           -0.07855    0.70098  -0.112\n",
       "NativeDominican-Republic             -0.98151    0.84692  -1.159\n",
       "NativeEcuador                        -1.09009    0.94113  -1.158\n",
       "NativeEl-Salvador                    -0.77094    0.79132  -0.974\n",
       "NativeEngland                         0.46355    0.70103   0.661\n",
       "NativeFrance                          0.64765    0.80357   0.806\n",
       "NativeGermany                         0.01418    0.67880   0.021\n",
       "NativeGreece                         -0.32567    0.74753  -0.436\n",
       "NativeGuatemala                      -2.18644    1.46170  -1.496\n",
       "NativeHaiti                           0.15616    0.80883   0.193\n",
       "NativeHoland-Netherlands             -6.67398  119.47002  -0.056\n",
       "NativeHonduras                        0.12278    1.35210   0.091\n",
       "NativeHong                           -0.50874    0.89936  -0.566\n",
       "NativeHungary                         0.16154    0.91381   0.177\n",
       "NativeIndia                          -0.52825    0.67212  -0.786\n",
       "NativeIran                           -0.40541    0.76192  -0.532\n",
       "NativeIreland                         0.98609    0.81974   1.203\n",
       "NativeItaly                           0.55742    0.70057   0.796\n",
       "NativeJamaica                         0.53196    0.74669   0.712\n",
       "NativeJapan                          -0.44005    0.71159  -0.618\n",
       "NativeLaos                           -2.24922    1.31314  -1.713\n",
       "NativeMexico                         -0.87322    0.66706  -1.309\n",
       "NativeNicaragua                      -0.39041    0.92074  -0.424\n",
       "NativeOutlying-US(Guam-USVI-etc)     -0.51882    1.25774  -0.412\n",
       "NativePeru                           -1.23119    0.94915  -1.297\n",
       "NativePhilippines                    -0.16387    0.65285  -0.251\n",
       "NativePoland                         -0.05778    0.72141  -0.080\n",
       "NativePortugal                        0.71983    0.74791   0.962\n",
       "NativePuerto-Rico                    -0.22622    0.70512  -0.321\n",
       "NativeScotland                       -2.04587    1.26173  -1.621\n",
       "NativeSouth                          -1.46549    0.72973  -2.008\n",
       "NativeTaiwan                         -0.47208    0.74410  -0.634\n",
       "NativeThailand                       -1.17417    0.90490  -1.298\n",
       "NativeTrinadad&Tobago                -2.11467    1.27973  -1.652\n",
       "NativeUnited-States                  -0.03172    0.63612  -0.050\n",
       "NativeVietnam                        -1.85523    0.84727  -2.190\n",
       "NativeYugoslavia                      0.76283    0.90038   0.847\n",
       "                                                Pr(>|z|)    \n",
       "(Intercept)                         0.000000000403687415 ***\n",
       "age                                 < 0.0000000000000002 ***\n",
       "workclassLocal-gov                  0.000000000452936946 ***\n",
       "workclassPrivate                    0.000000013017588513 ***\n",
       "workclassSelf-emp-inc                           0.001985 ** \n",
       "workclassSelf-emp-not-inc           < 0.0000000000000002 ***\n",
       "workclassState-gov                  0.000000000002326047 ***\n",
       "workclassWithout-pay                            0.244356    \n",
       "education11th                                   0.954803    \n",
       "education12th                                   0.214911    \n",
       "education1st-4th                                0.294513    \n",
       "education5th-6th                                0.183311    \n",
       "education7th-8th                                0.012131 *  \n",
       "education9th                                    0.062051 .  \n",
       "educationAssoc-acdm                 < 0.0000000000000002 ***\n",
       "educationAssoc-voc                  0.000000000000003805 ***\n",
       "educationBachelors                  < 0.0000000000000002 ***\n",
       "educationDoctorate                  < 0.0000000000000002 ***\n",
       "educationHS-grad                    0.000000072244187369 ***\n",
       "educationMasters                    < 0.0000000000000002 ***\n",
       "educationPreschool                              0.156477    \n",
       "educationProf-school                < 0.0000000000000002 ***\n",
       "educationSome-college               0.000000000000005831 ***\n",
       "marital_statusMarried-AF-spouse     0.000000212448266004 ***\n",
       "marital_statusMarried-civ-spouse    < 0.0000000000000002 ***\n",
       "marital_statusMarried-spouse-absent             0.428250    \n",
       "marital_statusNever-married         0.000002023436801262 ***\n",
       "marital_statusSeparated                         0.566017    \n",
       "marital_statusWidowed                           0.378156    \n",
       "occupationArmed-Forces                          0.847249    \n",
       "occupationCraft-repair                          0.235444    \n",
       "occupationExec-managerial           < 0.0000000000000002 ***\n",
       "occupationFarming-fishing           0.000000000000004272 ***\n",
       "occupationHandlers-cleaners         0.000000363847240255 ***\n",
       "occupationMachine-op-inspct                     0.001161 ** \n",
       "occupationOther-service             0.000000000000000978 ***\n",
       "occupationPriv-house-serv                       0.014278 *  \n",
       "occupationProf-specialty            0.000000000000005257 ***\n",
       "occupationProtective-serv           0.000026252357557622 ***\n",
       "occupationSales                                 0.000364 ***\n",
       "occupationTech-support              0.000000009107746012 ***\n",
       "occupationTransport-moving                      0.566344    \n",
       "relationshipNot-in-family                       0.024779 *  \n",
       "relationshipOther-relative                      0.010780 *  \n",
       "relationshipOwn-child                           0.043970 *  \n",
       "relationshipUnmarried                           0.184544    \n",
       "relationshipWife                    < 0.0000000000000002 ***\n",
       "raceAsian-Pac-Islander                          0.001347 ** \n",
       "raceBlack                                       0.137582    \n",
       "raceOther                                       0.178927    \n",
       "raceWhite                                       0.011061 *  \n",
       "sexMale                             < 0.0000000000000002 ***\n",
       "capital.gain                        < 0.0000000000000002 ***\n",
       "capital.loss                        < 0.0000000000000002 ***\n",
       "hours_per_week                      < 0.0000000000000002 ***\n",
       "NativeCanada                                    0.442943    \n",
       "NativeChina                                     0.178954    \n",
       "NativeColumbia                                  0.017600 *  \n",
       "NativeCuba                                      0.910783    \n",
       "NativeDominican-Republic                        0.246489    \n",
       "NativeEcuador                                   0.246751    \n",
       "NativeEl-Salvador                               0.329935    \n",
       "NativeEngland                                   0.508458    \n",
       "NativeFrance                                    0.420260    \n",
       "NativeGermany                                   0.983337    \n",
       "NativeGreece                                    0.663084    \n",
       "NativeGuatemala                                 0.134701    \n",
       "NativeHaiti                                     0.846906    \n",
       "NativeHoland-Netherlands                        0.955451    \n",
       "NativeHonduras                                  0.927643    \n",
       "NativeHong                                      0.571620    \n",
       "NativeHungary                                   0.859681    \n",
       "NativeIndia                                     0.431906    \n",
       "NativeIran                                      0.594665    \n",
       "NativeIreland                                   0.229003    \n",
       "NativeItaly                                     0.426222    \n",
       "NativeJamaica                                   0.476200    \n",
       "NativeJapan                                     0.536308    \n",
       "NativeLaos                                      0.086739 .  \n",
       "NativeMexico                                    0.190512    \n",
       "NativeNicaragua                                 0.671552    \n",
       "NativeOutlying-US(Guam-USVI-etc)                0.679974    \n",
       "NativePeru                                      0.194582    \n",
       "NativePhilippines                               0.801810    \n",
       "NativePoland                                    0.936159    \n",
       "NativePortugal                                  0.335818    \n",
       "NativePuerto-Rico                               0.748346    \n",
       "NativeScotland                                  0.104916    \n",
       "NativeSouth                                     0.044616 *  \n",
       "NativeTaiwan                                    0.525799    \n",
       "NativeThailand                                  0.194435    \n",
       "NativeTrinadad&Tobago                           0.098446 .  \n",
       "NativeUnited-States                             0.960231    \n",
       "NativeVietnam                                   0.028549 *  \n",
       "NativeYugoslavia                                0.396867    \n",
       "---\n",
       "Signif. codes:  0 '***' 0.001 '**' 0.01 '*' 0.05 '.' 0.1 ' ' 1\n",
       "\n",
       "(Dispersion parameter for binomial family taken to be 1)\n",
       "\n",
       "    Null deviance: 42812  on 38324  degrees of freedom\n",
       "Residual deviance: 24846  on 38230  degrees of freedom\n",
       "AIC: 25036\n",
       "\n",
       "Number of Fisher Scoring iterations: 9\n"
      ]
     },
     "metadata": {},
     "output_type": "display_data"
    },
    {
     "data": {
      "text/html": [
       "<table>\n",
       "<thead><tr><th></th><th scope=col>GVIF</th><th scope=col>Df</th><th scope=col>GVIF^(1/(2*Df))</th></tr></thead>\n",
       "<tbody>\n",
       "\t<tr><th scope=row>age</th><td>  1.239740</td><td> 1        </td><td>1.113436  </td></tr>\n",
       "\t<tr><th scope=row>workclass</th><td>  1.618377</td><td> 6        </td><td>1.040934  </td></tr>\n",
       "\t<tr><th scope=row>education</th><td>  2.100208</td><td>15        </td><td>1.025043  </td></tr>\n",
       "\t<tr><th scope=row>marital_status</th><td> 52.639305</td><td> 6        </td><td>1.391370  </td></tr>\n",
       "\t<tr><th scope=row>occupation</th><td>  2.814006</td><td>13        </td><td>1.040595  </td></tr>\n",
       "\t<tr><th scope=row>relationship</th><td>118.595740</td><td> 5        </td><td>1.612155  </td></tr>\n",
       "\t<tr><th scope=row>race</th><td>  2.998412</td><td> 4        </td><td>1.147127  </td></tr>\n",
       "\t<tr><th scope=row>sex</th><td>  2.877526</td><td> 1        </td><td>1.696327  </td></tr>\n",
       "\t<tr><th scope=row>capital.gain</th><td>  1.032232</td><td> 1        </td><td>1.015988  </td></tr>\n",
       "\t<tr><th scope=row>capital.loss</th><td>  1.014184</td><td> 1        </td><td>1.007067  </td></tr>\n",
       "\t<tr><th scope=row>hours_per_week</th><td>  1.134137</td><td> 1        </td><td>1.064958  </td></tr>\n",
       "\t<tr><th scope=row>Native</th><td>  3.532585</td><td>40        </td><td>1.015900  </td></tr>\n",
       "</tbody>\n",
       "</table>\n"
      ],
      "text/latex": [
       "\\begin{tabular}{r|lll}\n",
       "  & GVIF & Df & GVIF\\textasciicircum{}(1/(2*Df))\\\\\n",
       "\\hline\n",
       "\tage &   1.239740 &  1         & 1.113436  \\\\\n",
       "\tworkclass &   1.618377 &  6         & 1.040934  \\\\\n",
       "\teducation &   2.100208 & 15         & 1.025043  \\\\\n",
       "\tmarital\\_status &  52.639305 &  6         & 1.391370  \\\\\n",
       "\toccupation &   2.814006 & 13         & 1.040595  \\\\\n",
       "\trelationship & 118.595740 &  5         & 1.612155  \\\\\n",
       "\trace &   2.998412 &  4         & 1.147127  \\\\\n",
       "\tsex &   2.877526 &  1         & 1.696327  \\\\\n",
       "\tcapital.gain &   1.032232 &  1         & 1.015988  \\\\\n",
       "\tcapital.loss &   1.014184 &  1         & 1.007067  \\\\\n",
       "\thours\\_per\\_week &   1.134137 &  1         & 1.064958  \\\\\n",
       "\tNative &   3.532585 & 40         & 1.015900  \\\\\n",
       "\\end{tabular}\n"
      ],
      "text/markdown": [
       "\n",
       "| <!--/--> | GVIF | Df | GVIF^(1/(2*Df)) | \n",
       "|---|---|---|---|---|---|---|---|---|---|---|---|\n",
       "| age |   1.239740 |  1         | 1.113436   | \n",
       "| workclass |   1.618377 |  6         | 1.040934   | \n",
       "| education |   2.100208 | 15         | 1.025043   | \n",
       "| marital_status |  52.639305 |  6         | 1.391370   | \n",
       "| occupation |   2.814006 | 13         | 1.040595   | \n",
       "| relationship | 118.595740 |  5         | 1.612155   | \n",
       "| race |   2.998412 |  4         | 1.147127   | \n",
       "| sex |   2.877526 |  1         | 1.696327   | \n",
       "| capital.gain |   1.032232 |  1         | 1.015988   | \n",
       "| capital.loss |   1.014184 |  1         | 1.007067   | \n",
       "| hours_per_week |   1.134137 |  1         | 1.064958   | \n",
       "| Native |   3.532585 | 40         | 1.015900   | \n",
       "\n",
       "\n"
      ],
      "text/plain": [
       "               GVIF       Df GVIF^(1/(2*Df))\n",
       "age              1.239740  1 1.113436       \n",
       "workclass        1.618377  6 1.040934       \n",
       "education        2.100208 15 1.025043       \n",
       "marital_status  52.639305  6 1.391370       \n",
       "occupation       2.814006 13 1.040595       \n",
       "relationship   118.595740  5 1.612155       \n",
       "race             2.998412  4 1.147127       \n",
       "sex              2.877526  1 1.696327       \n",
       "capital.gain     1.032232  1 1.015988       \n",
       "capital.loss     1.014184  1 1.007067       \n",
       "hours_per_week   1.134137  1 1.064958       \n",
       "Native           3.532585 40 1.015900       "
      ]
     },
     "metadata": {},
     "output_type": "display_data"
    }
   ],
   "source": [
    "model_All <- glm(formula = class ~ ., data = ConVarScaled, family = binomial ,control = list(maxit = 50))\n",
    "summary(model_All)\n",
    "#Checking Multi-collinearity by examining VIF values for Categorical Variables\n",
    "car::vif(model_All)"
   ]
  },
  {
   "cell_type": "code",
   "execution_count": 17,
   "metadata": {},
   "outputs": [
    {
     "name": "stderr",
     "output_type": "stream",
     "text": [
      "Warning message:\n",
      "\"glm.fit: fitted probabilities numerically 0 or 1 occurred\""
     ]
    },
    {
     "data": {
      "text/plain": [
       "\n",
       "Call:\n",
       "glm(formula = class ~ ., family = binomial, data = ConVarScaled, \n",
       "    control = list(maxit = 50))\n",
       "\n",
       "Deviance Residuals: \n",
       "    Min       1Q   Median       3Q      Max  \n",
       "-5.0335  -0.5128  -0.2117  -0.0329   3.4453  \n",
       "\n",
       "Coefficients:\n",
       "                                      Estimate Std. Error z value\n",
       "(Intercept)                          -3.872791   0.685097  -5.653\n",
       "age                                   0.329334   0.019699  16.718\n",
       "workclassLocal-gov                   -0.643367   0.099785  -6.448\n",
       "workclassPrivate                     -0.473603   0.083450  -5.675\n",
       "workclassSelf-emp-inc                -0.325284   0.109774  -2.963\n",
       "workclassSelf-emp-not-inc            -0.997690   0.097932 -10.188\n",
       "workclassState-gov                   -0.782248   0.110201  -7.098\n",
       "workclassWithout-pay                 -1.060838   0.833643  -1.273\n",
       "education11th                        -0.002403   0.187040  -0.013\n",
       "education12th                         0.308632   0.243596   1.267\n",
       "education1st-4th                     -0.483562   0.455783  -1.061\n",
       "education5th-6th                     -0.412167   0.307611  -1.340\n",
       "education7th-8th                     -0.527148   0.212005  -2.486\n",
       "education9th                         -0.407960   0.238916  -1.708\n",
       "educationAssoc-acdm                   1.340512   0.157990   8.485\n",
       "educationAssoc-voc                    1.209962   0.152353   7.942\n",
       "educationBachelors                    1.902507   0.141295  13.465\n",
       "educationDoctorate                    2.747919   0.196921  13.954\n",
       "educationHS-grad                      0.753081   0.137384   5.482\n",
       "educationMasters                      2.230816   0.150736  14.799\n",
       "educationPreschool                   -4.949816   4.225336  -1.171\n",
       "educationProf-school                  2.818325   0.186076  15.146\n",
       "educationSome-college                 1.096055   0.139578   7.853\n",
       "marital_statusMarried-AF-spouse       2.987824   0.473486   6.310\n",
       "marital_statusMarried-civ-spouse      2.300409   0.061833  37.204\n",
       "marital_statusMarried-spouse-absent   0.227822   0.199466   1.142\n",
       "marital_statusNever-married          -0.407055   0.075266  -5.408\n",
       "marital_statusSeparated               0.071211   0.142949   0.498\n",
       "marital_statusWidowed                 0.007280   0.141686   0.051\n",
       "occupationArmed-Forces                0.104297   0.949286   0.110\n",
       "occupationCraft-repair                0.031561   0.070140   0.450\n",
       "occupationExec-managerial             0.766994   0.067489  11.365\n",
       "occupationFarming-fishing            -1.059117   0.125521  -8.438\n",
       "occupationHandlers-cleaners          -0.690033   0.124356  -5.549\n",
       "occupationMachine-op-inspct          -0.334554   0.090485  -3.697\n",
       "occupationOther-service              -0.850428   0.103868  -8.188\n",
       "occupationPriv-house-serv            -2.065661   0.789106  -2.618\n",
       "occupationProf-specialty              0.549214   0.071130   7.721\n",
       "occupationProtective-serv             0.430974   0.111326   3.871\n",
       "occupationSales                       0.216555   0.072026   3.007\n",
       "occupationTech-support                0.525132   0.096809   5.424\n",
       "occupationTransport-moving           -0.094075   0.087193  -1.079\n",
       "raceAsian-Pac-Islander                0.731022   0.245592   2.977\n",
       "raceBlack                             0.292994   0.203510   1.440\n",
       "raceOther                             0.404987   0.303780   1.333\n",
       "raceWhite                             0.488610   0.193387   2.527\n",
       "sexMale                               0.134746   0.047672   2.827\n",
       "capital.gain                          2.384478   0.070869  33.646\n",
       "capital.loss                          0.266287   0.013758  19.355\n",
       "hours_per_week                        0.339585   0.017791  19.087\n",
       "NativeCanada                          0.553600   0.673674   0.822\n",
       "NativeChina                          -0.930248   0.686297  -1.355\n",
       "NativeColumbia                       -2.182630   0.917152  -2.380\n",
       "NativeCuba                           -0.096104   0.697999  -0.138\n",
       "NativeDominican-Republic             -0.971586   0.846711  -1.147\n",
       "NativeEcuador                        -1.169092   0.937945  -1.246\n",
       "NativeEl-Salvador                    -0.767707   0.790138  -0.972\n",
       "NativeEngland                         0.486639   0.699776   0.695\n",
       "NativeFrance                          0.692745   0.805517   0.860\n",
       "NativeGermany                         0.010156   0.676789   0.015\n",
       "NativeGreece                         -0.388788   0.745769  -0.521\n",
       "NativeGuatemala                      -2.197068   1.473569  -1.491\n",
       "NativeHaiti                           0.073723   0.805682   0.092\n",
       "NativeHoland-Netherlands             -7.918356 119.469789  -0.066\n",
       "NativeHonduras                        0.167436   1.348455   0.124\n",
       "NativeHong                           -0.436890   0.906527  -0.482\n",
       "NativeHungary                         0.203295   0.914337   0.222\n",
       "NativeIndia                          -0.479486   0.672769  -0.713\n",
       "NativeIran                           -0.420674   0.761401  -0.553\n",
       "NativeIreland                         0.952336   0.821606   1.159\n",
       "NativeItaly                           0.552137   0.698758   0.790\n",
       "NativeJamaica                         0.471440   0.740955   0.636\n",
       "NativeJapan                          -0.354556   0.713261  -0.497\n",
       "NativeLaos                           -2.199922   1.323237  -1.663\n",
       "NativeMexico                         -0.887857   0.666183  -1.333\n",
       "NativeNicaragua                      -0.443955   0.913222  -0.486\n",
       "NativeOutlying-US(Guam-USVI-etc)     -0.461079   1.262998  -0.365\n",
       "NativePeru                           -1.202706   0.953905  -1.261\n",
       "NativePhilippines                    -0.181647   0.650694  -0.279\n",
       "NativePoland                         -0.072868   0.720171  -0.101\n",
       "NativePortugal                        0.759848   0.746475   1.018\n",
       "NativePuerto-Rico                    -0.144285   0.703102  -0.205\n",
       "NativeScotland                       -2.053749   1.269719  -1.617\n",
       "NativeSouth                          -1.429674   0.726205  -1.969\n",
       "NativeTaiwan                         -0.437319   0.740510  -0.591\n",
       "NativeThailand                       -1.156055   0.899310  -1.285\n",
       "NativeTrinadad&Tobago                -2.136343   1.286944  -1.660\n",
       "NativeUnited-States                  -0.029534   0.634898  -0.047\n",
       "NativeVietnam                        -1.840565   0.847298  -2.172\n",
       "NativeYugoslavia                      0.708658   0.898652   0.789\n",
       "                                                Pr(>|z|)    \n",
       "(Intercept)                         0.000000015775305002 ***\n",
       "age                                 < 0.0000000000000002 ***\n",
       "workclassLocal-gov                  0.000000000113668887 ***\n",
       "workclassPrivate                    0.000000013843537295 ***\n",
       "workclassSelf-emp-inc                           0.003044 ** \n",
       "workclassSelf-emp-not-inc           < 0.0000000000000002 ***\n",
       "workclassState-gov                  0.000000000001262154 ***\n",
       "workclassWithout-pay                            0.203184    \n",
       "education11th                                   0.989749    \n",
       "education12th                                   0.205162    \n",
       "education1st-4th                                0.288714    \n",
       "education5th-6th                                0.180279    \n",
       "education7th-8th                                0.012901 *  \n",
       "education9th                                    0.087721 .  \n",
       "educationAssoc-acdm                 < 0.0000000000000002 ***\n",
       "educationAssoc-voc                  0.000000000000001992 ***\n",
       "educationBachelors                  < 0.0000000000000002 ***\n",
       "educationDoctorate                  < 0.0000000000000002 ***\n",
       "educationHS-grad                    0.000000042155762401 ***\n",
       "educationMasters                    < 0.0000000000000002 ***\n",
       "educationPreschool                              0.241414    \n",
       "educationProf-school                < 0.0000000000000002 ***\n",
       "educationSome-college               0.000000000000004074 ***\n",
       "marital_statusMarried-AF-spouse     0.000000000278542837 ***\n",
       "marital_statusMarried-civ-spouse    < 0.0000000000000002 ***\n",
       "marital_statusMarried-spouse-absent             0.253388    \n",
       "marital_statusNever-married         0.000000063652729215 ***\n",
       "marital_statusSeparated                         0.618372    \n",
       "marital_statusWidowed                           0.959023    \n",
       "occupationArmed-Forces                          0.912513    \n",
       "occupationCraft-repair                          0.652730    \n",
       "occupationExec-managerial           < 0.0000000000000002 ***\n",
       "occupationFarming-fishing           < 0.0000000000000002 ***\n",
       "occupationHandlers-cleaners         0.000000028755090292 ***\n",
       "occupationMachine-op-inspct                     0.000218 ***\n",
       "occupationOther-service             0.000000000000000267 ***\n",
       "occupationPriv-house-serv                       0.008852 ** \n",
       "occupationProf-specialty            0.000000000000011514 ***\n",
       "occupationProtective-serv                       0.000108 ***\n",
       "occupationSales                                 0.002642 ** \n",
       "occupationTech-support              0.000000058147275000 ***\n",
       "occupationTransport-moving                      0.280615    \n",
       "raceAsian-Pac-Islander                          0.002915 ** \n",
       "raceBlack                                       0.149951    \n",
       "raceOther                                       0.182479    \n",
       "raceWhite                                       0.011517 *  \n",
       "sexMale                                         0.004706 ** \n",
       "capital.gain                        < 0.0000000000000002 ***\n",
       "capital.loss                        < 0.0000000000000002 ***\n",
       "hours_per_week                      < 0.0000000000000002 ***\n",
       "NativeCanada                                    0.411213    \n",
       "NativeChina                                     0.175271    \n",
       "NativeColumbia                                  0.017322 *  \n",
       "NativeCuba                                      0.890489    \n",
       "NativeDominican-Republic                        0.251182    \n",
       "NativeEcuador                                   0.212603    \n",
       "NativeEl-Salvador                               0.331244    \n",
       "NativeEngland                                   0.486791    \n",
       "NativeFrance                                    0.389789    \n",
       "NativeGermany                                   0.988027    \n",
       "NativeGreece                                    0.602140    \n",
       "NativeGuatemala                                 0.135966    \n",
       "NativeHaiti                                     0.927092    \n",
       "NativeHoland-Netherlands                        0.947156    \n",
       "NativeHonduras                                  0.901182    \n",
       "NativeHong                                      0.629850    \n",
       "NativeHungary                                   0.824048    \n",
       "NativeIndia                                     0.476028    \n",
       "NativeIran                                      0.580605    \n",
       "NativeIreland                                   0.246409    \n",
       "NativeItaly                                     0.429429    \n",
       "NativeJamaica                                   0.524607    \n",
       "NativeJapan                                     0.619124    \n",
       "NativeLaos                                      0.096407 .  \n",
       "NativeMexico                                    0.182613    \n",
       "NativeNicaragua                                 0.626867    \n",
       "NativeOutlying-US(Guam-USVI-etc)                0.715061    \n",
       "NativePeru                                      0.207372    \n",
       "NativePhilippines                               0.780122    \n",
       "NativePoland                                    0.919406    \n",
       "NativePortugal                                  0.308718    \n",
       "NativePuerto-Rico                               0.837406    \n",
       "NativeScotland                                  0.105774    \n",
       "NativeSouth                                     0.048988 *  \n",
       "NativeTaiwan                                    0.554812    \n",
       "NativeThailand                                  0.198621    \n",
       "NativeTrinadad&Tobago                           0.096912 .  \n",
       "NativeUnited-States                             0.962898    \n",
       "NativeVietnam                                   0.029835 *  \n",
       "NativeYugoslavia                                0.430359    \n",
       "---\n",
       "Signif. codes:  0 '***' 0.001 '**' 0.01 '*' 0.05 '.' 0.1 ' ' 1\n",
       "\n",
       "(Dispersion parameter for binomial family taken to be 1)\n",
       "\n",
       "    Null deviance: 42812  on 38324  degrees of freedom\n",
       "Residual deviance: 25110  on 38235  degrees of freedom\n",
       "AIC: 25290\n",
       "\n",
       "Number of Fisher Scoring iterations: 9\n"
      ]
     },
     "metadata": {},
     "output_type": "display_data"
    },
    {
     "data": {
      "text/html": [
       "<table>\n",
       "<thead><tr><th></th><th scope=col>GVIF</th><th scope=col>Df</th><th scope=col>GVIF^(1/(2*Df))</th></tr></thead>\n",
       "<tbody>\n",
       "\t<tr><th scope=row>age</th><td>1.226619</td><td> 1      </td><td>1.107528</td></tr>\n",
       "\t<tr><th scope=row>workclass</th><td>1.614666</td><td> 6      </td><td>1.040735</td></tr>\n",
       "\t<tr><th scope=row>education</th><td>2.072599</td><td>15      </td><td>1.024591</td></tr>\n",
       "\t<tr><th scope=row>marital_status</th><td>1.548766</td><td> 6      </td><td>1.037127</td></tr>\n",
       "\t<tr><th scope=row>occupation</th><td>2.775290</td><td>13      </td><td>1.040041</td></tr>\n",
       "\t<tr><th scope=row>race</th><td>2.973312</td><td> 4      </td><td>1.145922</td></tr>\n",
       "\t<tr><th scope=row>sex</th><td>1.429731</td><td> 1      </td><td>1.195714</td></tr>\n",
       "\t<tr><th scope=row>capital.gain</th><td>1.029595</td><td> 1      </td><td>1.014690</td></tr>\n",
       "\t<tr><th scope=row>capital.loss</th><td>1.014040</td><td> 1      </td><td>1.006995</td></tr>\n",
       "\t<tr><th scope=row>hours_per_week</th><td>1.120830</td><td> 1      </td><td>1.058692</td></tr>\n",
       "\t<tr><th scope=row>Native</th><td>3.459363</td><td>40      </td><td>1.015635</td></tr>\n",
       "</tbody>\n",
       "</table>\n"
      ],
      "text/latex": [
       "\\begin{tabular}{r|lll}\n",
       "  & GVIF & Df & GVIF\\textasciicircum{}(1/(2*Df))\\\\\n",
       "\\hline\n",
       "\tage & 1.226619 &  1       & 1.107528\\\\\n",
       "\tworkclass & 1.614666 &  6       & 1.040735\\\\\n",
       "\teducation & 2.072599 & 15       & 1.024591\\\\\n",
       "\tmarital\\_status & 1.548766 &  6       & 1.037127\\\\\n",
       "\toccupation & 2.775290 & 13       & 1.040041\\\\\n",
       "\trace & 2.973312 &  4       & 1.145922\\\\\n",
       "\tsex & 1.429731 &  1       & 1.195714\\\\\n",
       "\tcapital.gain & 1.029595 &  1       & 1.014690\\\\\n",
       "\tcapital.loss & 1.014040 &  1       & 1.006995\\\\\n",
       "\thours\\_per\\_week & 1.120830 &  1       & 1.058692\\\\\n",
       "\tNative & 3.459363 & 40       & 1.015635\\\\\n",
       "\\end{tabular}\n"
      ],
      "text/markdown": [
       "\n",
       "| <!--/--> | GVIF | Df | GVIF^(1/(2*Df)) | \n",
       "|---|---|---|---|---|---|---|---|---|---|---|\n",
       "| age | 1.226619 |  1       | 1.107528 | \n",
       "| workclass | 1.614666 |  6       | 1.040735 | \n",
       "| education | 2.072599 | 15       | 1.024591 | \n",
       "| marital_status | 1.548766 |  6       | 1.037127 | \n",
       "| occupation | 2.775290 | 13       | 1.040041 | \n",
       "| race | 2.973312 |  4       | 1.145922 | \n",
       "| sex | 1.429731 |  1       | 1.195714 | \n",
       "| capital.gain | 1.029595 |  1       | 1.014690 | \n",
       "| capital.loss | 1.014040 |  1       | 1.006995 | \n",
       "| hours_per_week | 1.120830 |  1       | 1.058692 | \n",
       "| Native | 3.459363 | 40       | 1.015635 | \n",
       "\n",
       "\n"
      ],
      "text/plain": [
       "               GVIF     Df GVIF^(1/(2*Df))\n",
       "age            1.226619  1 1.107528       \n",
       "workclass      1.614666  6 1.040735       \n",
       "education      2.072599 15 1.024591       \n",
       "marital_status 1.548766  6 1.037127       \n",
       "occupation     2.775290 13 1.040041       \n",
       "race           2.973312  4 1.145922       \n",
       "sex            1.429731  1 1.195714       \n",
       "capital.gain   1.029595  1 1.014690       \n",
       "capital.loss   1.014040  1 1.006995       \n",
       "hours_per_week 1.120830  1 1.058692       \n",
       "Native         3.459363 40 1.015635       "
      ]
     },
     "metadata": {},
     "output_type": "display_data"
    }
   ],
   "source": [
    "#We need to remove the variable with highest GVIF, which is \"relationship\". \n",
    "ConVarScaled <- ConVarScaled[-c(6)]\n",
    "model_All <- glm(formula = class ~ ., data = ConVarScaled, family = binomial ,control = list(maxit = 50))\n",
    "summary(model_All)\n",
    "#Checking Multi-collinearity by examining VIF values for Categorical Variables\n",
    "car::vif(model_All)"
   ]
  },
  {
   "cell_type": "code",
   "execution_count": 18,
   "metadata": {},
   "outputs": [
    {
     "data": {
      "text/html": [
       "<table>\n",
       "<thead><tr><th></th><th scope=col>VARS</th><th scope=col>IV</th><th scope=col>STRENGTH</th></tr></thead>\n",
       "<tbody>\n",
       "\t<tr><th scope=row>3</th><td>marital_status     </td><td>1.32385744         </td><td>Highly Predictive  </td></tr>\n",
       "\t<tr><th scope=row>4</th><td>occupation         </td><td>0.74746648         </td><td>Highly Predictive  </td></tr>\n",
       "\t<tr><th scope=row>2</th><td>education          </td><td>0.71304603         </td><td>Highly Predictive  </td></tr>\n",
       "\t<tr><th scope=row>6</th><td>sex                </td><td>0.29981097         </td><td>Highly Predictive  </td></tr>\n",
       "\t<tr><th scope=row>1</th><td>workclass          </td><td>0.12423435         </td><td>Highly Predictive  </td></tr>\n",
       "\t<tr><th scope=row>7</th><td>Native             </td><td>0.08100767         </td><td>Somewhat Predictive</td></tr>\n",
       "\t<tr><th scope=row>5</th><td>race               </td><td>0.06611061         </td><td>Somewhat Predictive</td></tr>\n",
       "</tbody>\n",
       "</table>\n"
      ],
      "text/latex": [
       "\\begin{tabular}{r|lll}\n",
       "  & VARS & IV & STRENGTH\\\\\n",
       "\\hline\n",
       "\t3 & marital\\_status    & 1.32385744          & Highly Predictive  \\\\\n",
       "\t4 & occupation          & 0.74746648          & Highly Predictive  \\\\\n",
       "\t2 & education           & 0.71304603          & Highly Predictive  \\\\\n",
       "\t6 & sex                 & 0.29981097          & Highly Predictive  \\\\\n",
       "\t1 & workclass           & 0.12423435          & Highly Predictive  \\\\\n",
       "\t7 & Native              & 0.08100767          & Somewhat Predictive\\\\\n",
       "\t5 & race                & 0.06611061          & Somewhat Predictive\\\\\n",
       "\\end{tabular}\n"
      ],
      "text/markdown": [
       "\n",
       "| <!--/--> | VARS | IV | STRENGTH | \n",
       "|---|---|---|---|---|---|---|\n",
       "| 3 | marital_status      | 1.32385744          | Highly Predictive   | \n",
       "| 4 | occupation          | 0.74746648          | Highly Predictive   | \n",
       "| 2 | education           | 0.71304603          | Highly Predictive   | \n",
       "| 6 | sex                 | 0.29981097          | Highly Predictive   | \n",
       "| 1 | workclass           | 0.12423435          | Highly Predictive   | \n",
       "| 7 | Native              | 0.08100767          | Somewhat Predictive | \n",
       "| 5 | race                | 0.06611061          | Somewhat Predictive | \n",
       "\n",
       "\n"
      ],
      "text/plain": [
       "  VARS           IV         STRENGTH           \n",
       "3 marital_status 1.32385744 Highly Predictive  \n",
       "4 occupation     0.74746648 Highly Predictive  \n",
       "2 education      0.71304603 Highly Predictive  \n",
       "6 sex            0.29981097 Highly Predictive  \n",
       "1 workclass      0.12423435 Highly Predictive  \n",
       "7 Native         0.08100767 Somewhat Predictive\n",
       "5 race           0.06611061 Somewhat Predictive"
      ]
     },
     "metadata": {},
     "output_type": "display_data"
    }
   ],
   "source": [
    "Cat_vars <- c (\"workclass\", \"education\", \"marital_status\", \"occupation\", \"race\", \"sex\", \"Native\")\n",
    "Cat_infoval <- data.frame(VARS=Cat_vars, IV=numeric(length(Cat_vars)), STRENGTH=character(length(Cat_vars)), stringsAsFactors = F)\n",
    "for (Cat_var in Cat_vars){\n",
    "  Cat_infoval[Cat_infoval$VARS == Cat_var, \"IV\"] <- InformationValue::IV(X=adultCensus[, Cat_var], Y=adultCensus$class)\n",
    "  Cat_infoval[Cat_infoval$VARS == Cat_var, \"STRENGTH\"] <- attr(InformationValue::IV(X=adultCensus[, Cat_var], Y=adultCensus$class), \"howgood\")\n",
    "}\n",
    "Cat_infoval <- Cat_infoval[order(-Cat_infoval$IV), ]\n",
    "Cat_infoval"
   ]
  },
  {
   "cell_type": "code",
   "execution_count": 20,
   "metadata": {},
   "outputs": [
    {
     "name": "stdout",
     "output_type": "stream",
     "text": [
      "[1] \"ConVarScaled:\"\n"
     ]
    },
    {
     "data": {
      "text/html": [
       "<table>\n",
       "<thead><tr><th scope=col>age</th><th scope=col>workclass</th><th scope=col>education</th><th scope=col>marital_status</th><th scope=col>occupation</th><th scope=col>race</th><th scope=col>sex</th><th scope=col>capital.gain</th><th scope=col>capital.loss</th><th scope=col>hours_per_week</th><th scope=col>Native</th><th scope=col>class</th></tr></thead>\n",
       "<tbody>\n",
       "\t<tr><td>0.03042553   </td><td>State-gov    </td><td>Bachelors    </td><td>Never-married</td><td>Adm-clerical </td><td>White        </td><td>Male         </td><td>0.1413175    </td><td>-0.2182684   </td><td>-0.0770721   </td><td>United-States</td><td>0            </td></tr>\n",
       "</tbody>\n",
       "</table>\n"
      ],
      "text/latex": [
       "\\begin{tabular}{r|llllllllllll}\n",
       " age & workclass & education & marital\\_status & occupation & race & sex & capital.gain & capital.loss & hours\\_per\\_week & Native & class\\\\\n",
       "\\hline\n",
       "\t 0.03042553    & State-gov     & Bachelors     & Never-married & Adm-clerical  & White         & Male          & 0.1413175     & -0.2182684    & -0.0770721    & United-States & 0            \\\\\n",
       "\\end{tabular}\n"
      ],
      "text/markdown": [
       "\n",
       "age | workclass | education | marital_status | occupation | race | sex | capital.gain | capital.loss | hours_per_week | Native | class | \n",
       "|---|\n",
       "| 0.03042553    | State-gov     | Bachelors     | Never-married | Adm-clerical  | White         | Male          | 0.1413175     | -0.2182684    | -0.0770721    | United-States | 0             | \n",
       "\n",
       "\n"
      ],
      "text/plain": [
       "  age        workclass education marital_status occupation   race  sex \n",
       "1 0.03042553 State-gov Bachelors Never-married  Adm-clerical White Male\n",
       "  capital.gain capital.loss hours_per_week Native        class\n",
       "1 0.1413175    -0.2182684   -0.0770721     United-States 0    "
      ]
     },
     "metadata": {},
     "output_type": "display_data"
    },
    {
     "data": {
      "text/plain": [
       "\n",
       "    0     1 \n",
       "28875  9450 "
      ]
     },
     "metadata": {},
     "output_type": "display_data"
    }
   ],
   "source": [
    "#We would continue to include the bottom variables as well.\n",
    "#Select significant features:\n",
    "print(\"ConVarScaled:\")\n",
    "head(ConVarScaled,1)\n",
    "Sig_Data <- ConVarScaled#[-c(6,11)] \n",
    "\n",
    "#Check class distribution\n",
    "#Baseline accuracy:\n",
    "table(adultCensus$class)"
   ]
  },
  {
   "cell_type": "code",
   "execution_count": 21,
   "metadata": {},
   "outputs": [
    {
     "data": {
      "text/html": [
       "0.75"
      ],
      "text/latex": [
       "0.75"
      ],
      "text/markdown": [
       "0.75"
      ],
      "text/plain": [
       "[1] 0.75"
      ]
     },
     "metadata": {},
     "output_type": "display_data"
    }
   ],
   "source": [
    "#Baseline accuracy\n",
    "baseline <- round(28875/nrow(adultCensus),2)\n",
    "baseline"
   ]
  },
  {
   "cell_type": "markdown",
   "metadata": {},
   "source": [
    "Our model accuracy should at least be 75%"
   ]
  },
  {
   "cell_type": "code",
   "execution_count": 22,
   "metadata": {},
   "outputs": [
    {
     "data": {
      "text/html": [
       "<table>\n",
       "<thead><tr><th></th><th scope=col>age</th><th scope=col>workclass</th><th scope=col>education</th><th scope=col>marital_status</th><th scope=col>occupation</th><th scope=col>race</th><th scope=col>sex</th><th scope=col>capital.gain</th><th scope=col>capital.loss</th><th scope=col>hours_per_week</th><th scope=col>Native</th><th scope=col>class</th></tr></thead>\n",
       "<tbody>\n",
       "\t<tr><th scope=row>6</th><td>-0.1202864        </td><td>Private           </td><td>Masters           </td><td>Married-civ-spouse</td><td>Exec-managerial   </td><td>White             </td><td>Female            </td><td>-0.1459554        </td><td>-0.2182684        </td><td>-0.0770721        </td><td>United-States     </td><td>0                 </td></tr>\n",
       "</tbody>\n",
       "</table>\n"
      ],
      "text/latex": [
       "\\begin{tabular}{r|llllllllllll}\n",
       "  & age & workclass & education & marital\\_status & occupation & race & sex & capital.gain & capital.loss & hours\\_per\\_week & Native & class\\\\\n",
       "\\hline\n",
       "\t6 & -0.1202864         & Private            & Masters            & Married-civ-spouse & Exec-managerial    & White              & Female             & -0.1459554         & -0.2182684         & -0.0770721         & United-States      & 0                 \\\\\n",
       "\\end{tabular}\n"
      ],
      "text/markdown": [
       "\n",
       "| <!--/--> | age | workclass | education | marital_status | occupation | race | sex | capital.gain | capital.loss | hours_per_week | Native | class | \n",
       "|---|\n",
       "| 6 | -0.1202864         | Private            | Masters            | Married-civ-spouse | Exec-managerial    | White              | Female             | -0.1459554         | -0.2182684         | -0.0770721         | United-States      | 0                  | \n",
       "\n",
       "\n"
      ],
      "text/plain": [
       "  age        workclass education marital_status     occupation      race \n",
       "6 -0.1202864 Private   Masters   Married-civ-spouse Exec-managerial White\n",
       "  sex    capital.gain capital.loss hours_per_week Native        class\n",
       "6 Female -0.1459554   -0.2182684   -0.0770721     United-States 0    "
      ]
     },
     "metadata": {},
     "output_type": "display_data"
    }
   ],
   "source": [
    "#Split into training and testing:\n",
    "set.seed(123)\n",
    "training_samples <- Sig_Data$class %>% \n",
    "  createDataPartition(p = 0.70, list = FALSE)\n",
    "train  <- Sig_Data[training_samples, ]\n",
    "test <- Sig_Data[-training_samples, ]\n",
    "head(test,1)"
   ]
  },
  {
   "cell_type": "code",
   "execution_count": 23,
   "metadata": {},
   "outputs": [
    {
     "name": "stderr",
     "output_type": "stream",
     "text": [
      "Warning message:\n",
      "\"glm.fit: fitted probabilities numerically 0 or 1 occurred\""
     ]
    },
    {
     "data": {
      "text/plain": [
       "\n",
       "Call:\n",
       "glm(formula = class ~ ., family = binomial(link = \"logit\"), data = train, \n",
       "    control = list(maxit = 50))\n",
       "\n",
       "Deviance Residuals: \n",
       "    Min       1Q   Median       3Q      Max  \n",
       "-5.0485  -0.5161  -0.2116  -0.0327   3.2292  \n",
       "\n",
       "Coefficients:\n",
       "                                      Estimate Std. Error z value\n",
       "(Intercept)                          -3.828946   0.780693  -4.905\n",
       "age                                   0.338552   0.023513  14.398\n",
       "workclassLocal-gov                   -0.572533   0.118621  -4.827\n",
       "workclassPrivate                     -0.385670   0.099235  -3.886\n",
       "workclassSelf-emp-inc                -0.229377   0.131352  -1.746\n",
       "workclassSelf-emp-not-inc            -0.924385   0.116334  -7.946\n",
       "workclassState-gov                   -0.699326   0.130795  -5.347\n",
       "workclassWithout-pay                 -0.458583   0.877191  -0.523\n",
       "education11th                        -0.125002   0.220935  -0.566\n",
       "education12th                        -0.045352   0.306784  -0.148\n",
       "education1st-4th                     -0.632717   0.552028  -1.146\n",
       "education5th-6th                     -0.401689   0.358671  -1.120\n",
       "education7th-8th                     -0.480418   0.239451  -2.006\n",
       "education9th                         -0.592609   0.284957  -2.080\n",
       "educationAssoc-acdm                   1.255781   0.183695   6.836\n",
       "educationAssoc-voc                    1.034993   0.177232   5.840\n",
       "educationBachelors                    1.810396   0.163411  11.079\n",
       "educationDoctorate                    2.588072   0.228201  11.341\n",
       "educationHS-grad                      0.642237   0.158604   4.049\n",
       "educationMasters                      2.204390   0.175464  12.563\n",
       "educationPreschool                   -4.893162   4.501028  -1.087\n",
       "educationProf-school                  2.797510   0.219390  12.751\n",
       "educationSome-college                 0.985897   0.161249   6.114\n",
       "marital_statusMarried-AF-spouse       2.778942   0.757908   3.667\n",
       "marital_statusMarried-civ-spouse      2.345783   0.074993  31.280\n",
       "marital_statusMarried-spouse-absent   0.327672   0.235473   1.392\n",
       "marital_statusNever-married          -0.362992   0.090443  -4.013\n",
       "marital_statusSeparated               0.142188   0.170320   0.835\n",
       "marital_statusWidowed                 0.053576   0.168460   0.318\n",
       "occupationArmed-Forces                0.230152   0.979176   0.235\n",
       "occupationCraft-repair                0.009549   0.083626   0.114\n",
       "occupationExec-managerial             0.722380   0.080713   8.950\n",
       "occupationFarming-fishing            -1.048478   0.150189  -6.981\n",
       "occupationHandlers-cleaners          -0.645599   0.145460  -4.438\n",
       "occupationMachine-op-inspct          -0.328820   0.108056  -3.043\n",
       "occupationOther-service              -0.850842   0.121921  -6.979\n",
       "occupationPriv-house-serv            -2.031826   1.022938  -1.986\n",
       "occupationProf-specialty              0.513603   0.084955   6.046\n",
       "occupationProtective-serv             0.415602   0.131795   3.153\n",
       "occupationSales                       0.240465   0.085821   2.802\n",
       "occupationTech-support                0.550286   0.117159   4.697\n",
       "occupationTransport-moving           -0.095257   0.103427  -0.921\n",
       "raceAsian-Pac-Islander                0.803813   0.293797   2.736\n",
       "raceBlack                             0.198011   0.245465   0.807\n",
       "raceOther                             0.273933   0.372639   0.735\n",
       "raceWhite                             0.436107   0.233415   1.868\n",
       "sexMale                               0.128016   0.057441   2.229\n",
       "capital.gain                          2.380382   0.083411  28.538\n",
       "capital.loss                          0.270985   0.016414  16.510\n",
       "hours_per_week                        0.326794   0.020879  15.652\n",
       "NativeCanada                          0.606788   0.771777   0.786\n",
       "NativeChina                          -1.250119   0.795739  -1.571\n",
       "NativeColumbia                       -1.863846   1.016178  -1.834\n",
       "NativeCuba                           -0.139245   0.804374  -0.173\n",
       "NativeDominican-Republic             -0.816626   0.970753  -0.841\n",
       "NativeEcuador                        -1.062477   1.036006  -1.026\n",
       "NativeEl-Salvador                    -1.034766   0.909293  -1.138\n",
       "NativeEngland                         0.433152   0.803233   0.539\n",
       "NativeFrance                          0.740167   1.035475   0.715\n",
       "NativeGermany                        -0.087845   0.772848  -0.114\n",
       "NativeGreece                         -0.293358   0.883902  -0.332\n",
       "NativeGuatemala                      -1.630809   1.699014  -0.960\n",
       "NativeHaiti                           0.117493   0.907604   0.129\n",
       "NativeHoland-Netherlands            -10.958896 535.411668  -0.020\n",
       "NativeHonduras                       -1.143862   2.558778  -0.447\n",
       "NativeHong                           -0.903980   1.090808  -0.829\n",
       "NativeHungary                         0.126432   1.021968   0.124\n",
       "NativeIndia                          -0.677023   0.768779  -0.881\n",
       "NativeIran                           -0.167225   0.852463  -0.196\n",
       "NativeIreland                         1.372056   0.921703   1.489\n",
       "NativeItaly                           0.621743   0.789937   0.787\n",
       "NativeJamaica                         0.685725   0.851255   0.806\n",
       "NativeJapan                          -0.242608   0.828663  -0.293\n",
       "NativeLaos                          -13.868308 197.779401  -0.070\n",
       "NativeMexico                         -0.931689   0.754266  -1.235\n",
       "NativeNicaragua                       0.197403   0.982888   0.201\n",
       "NativeOutlying-US(Guam-USVI-etc)      0.012451   1.387169   0.009\n",
       "NativePeru                           -0.904738   1.038618  -0.871\n",
       "NativePhilippines                    -0.370455   0.745992  -0.497\n",
       "NativePoland                          0.183339   0.813632   0.225\n",
       "NativePortugal                        0.984534   0.852396   1.155\n",
       "NativePuerto-Rico                     0.098646   0.794889   0.124\n",
       "NativeScotland                      -12.328614 129.348387  -0.095\n",
       "NativeSouth                          -1.560405   0.837722  -1.863\n",
       "NativeTaiwan                         -0.829661   0.843633  -0.983\n",
       "NativeThailand                       -1.282683   1.038159  -1.236\n",
       "NativeTrinadad&Tobago                -2.055840   1.345598  -1.528\n",
       "NativeUnited-States                  -0.025943   0.718101  -0.036\n",
       "NativeVietnam                        -2.575304   1.055939  -2.439\n",
       "NativeYugoslavia                      0.671797   1.030125   0.652\n",
       "                                                Pr(>|z|)    \n",
       "(Intercept)                          0.00000093644170665 ***\n",
       "age                                 < 0.0000000000000002 ***\n",
       "workclassLocal-gov                   0.00000138911571338 ***\n",
       "workclassPrivate                                0.000102 ***\n",
       "workclassSelf-emp-inc                           0.080764 .  \n",
       "workclassSelf-emp-not-inc            0.00000000000000193 ***\n",
       "workclassState-gov                   0.00000008955000456 ***\n",
       "workclassWithout-pay                            0.601123    \n",
       "education11th                                   0.571539    \n",
       "education12th                                   0.882478    \n",
       "education1st-4th                                0.251725    \n",
       "education5th-6th                                0.262740    \n",
       "education7th-8th                                0.044821 *  \n",
       "education9th                                    0.037558 *  \n",
       "educationAssoc-acdm                  0.00000000000813025 ***\n",
       "educationAssoc-voc                   0.00000000522715677 ***\n",
       "educationBachelors                  < 0.0000000000000002 ***\n",
       "educationDoctorate                  < 0.0000000000000002 ***\n",
       "educationHS-grad                     0.00005137016111224 ***\n",
       "educationMasters                    < 0.0000000000000002 ***\n",
       "educationPreschool                              0.276983    \n",
       "educationProf-school                < 0.0000000000000002 ***\n",
       "educationSome-college                0.00000000097073963 ***\n",
       "marital_statusMarried-AF-spouse                 0.000246 ***\n",
       "marital_statusMarried-civ-spouse    < 0.0000000000000002 ***\n",
       "marital_statusMarried-spouse-absent             0.164058    \n",
       "marital_statusNever-married          0.00005983146423651 ***\n",
       "marital_statusSeparated                         0.403814    \n",
       "marital_statusWidowed                           0.750462    \n",
       "occupationArmed-Forces                          0.814173    \n",
       "occupationCraft-repair                          0.909088    \n",
       "occupationExec-managerial           < 0.0000000000000002 ***\n",
       "occupationFarming-fishing            0.00000000000292980 ***\n",
       "occupationHandlers-cleaners          0.00000906581999367 ***\n",
       "occupationMachine-op-inspct                     0.002342 ** \n",
       "occupationOther-service              0.00000000000298032 ***\n",
       "occupationPriv-house-serv                       0.047004 *  \n",
       "occupationProf-specialty             0.00000000148845158 ***\n",
       "occupationProtective-serv                       0.001614 ** \n",
       "occupationSales                                 0.005079 ** \n",
       "occupationTech-support               0.00000264134385843 ***\n",
       "occupationTransport-moving                      0.357050    \n",
       "raceAsian-Pac-Islander                          0.006220 ** \n",
       "raceBlack                                       0.419852    \n",
       "raceOther                                       0.462269    \n",
       "raceWhite                                       0.061710 .  \n",
       "sexMale                                         0.025837 *  \n",
       "capital.gain                        < 0.0000000000000002 ***\n",
       "capital.loss                        < 0.0000000000000002 ***\n",
       "hours_per_week                      < 0.0000000000000002 ***\n",
       "NativeCanada                                    0.431737    \n",
       "NativeChina                                     0.116179    \n",
       "NativeColumbia                                  0.066628 .  \n",
       "NativeCuba                                      0.862565    \n",
       "NativeDominican-Republic                        0.400219    \n",
       "NativeEcuador                                   0.305103    \n",
       "NativeEl-Salvador                               0.255125    \n",
       "NativeEngland                                   0.589707    \n",
       "NativeFrance                                    0.474727    \n",
       "NativeGermany                                   0.909504    \n",
       "NativeGreece                                    0.739973    \n",
       "NativeGuatemala                                 0.337128    \n",
       "NativeHaiti                                     0.896999    \n",
       "NativeHoland-Netherlands                        0.983670    \n",
       "NativeHonduras                                  0.654850    \n",
       "NativeHong                                      0.407260    \n",
       "NativeHungary                                   0.901542    \n",
       "NativeIndia                                     0.378509    \n",
       "NativeIran                                      0.844479    \n",
       "NativeIreland                                   0.136590    \n",
       "NativeItaly                                     0.431235    \n",
       "NativeJamaica                                   0.420505    \n",
       "NativeJapan                                     0.769698    \n",
       "NativeLaos                                      0.944098    \n",
       "NativeMexico                                    0.216746    \n",
       "NativeNicaragua                                 0.840824    \n",
       "NativeOutlying-US(Guam-USVI-etc)                0.992839    \n",
       "NativePeru                                      0.383701    \n",
       "NativePhilippines                               0.619475    \n",
       "NativePoland                                    0.821719    \n",
       "NativePortugal                                  0.248083    \n",
       "NativePuerto-Rico                               0.901236    \n",
       "NativeScotland                                  0.924066    \n",
       "NativeSouth                                     0.062508 .  \n",
       "NativeTaiwan                                    0.325392    \n",
       "NativeThailand                                  0.216631    \n",
       "NativeTrinadad&Tobago                           0.126556    \n",
       "NativeUnited-States                             0.971181    \n",
       "NativeVietnam                                   0.014733 *  \n",
       "NativeYugoslavia                                0.514304    \n",
       "---\n",
       "Signif. codes:  0 '***' 0.001 '**' 0.01 '*' 0.05 '.' 0.1 ' ' 1\n",
       "\n",
       "(Dispersion parameter for binomial family taken to be 1)\n",
       "\n",
       "    Null deviance: 29969  on 26827  degrees of freedom\n",
       "Residual deviance: 17575  on 26738  degrees of freedom\n",
       "AIC: 17755\n",
       "\n",
       "Number of Fisher Scoring iterations: 12\n"
      ]
     },
     "metadata": {},
     "output_type": "display_data"
    }
   ],
   "source": [
    "#Applying model with selected features:\n",
    "mod_sig <- glm(formula = class ~ ., data = train, family = binomial(link = \"logit\") ,control = list(maxit = 50))\n",
    "summary(mod_sig)"
   ]
  },
  {
   "cell_type": "markdown",
   "metadata": {},
   "source": [
    "AIC has reduced from 25290 to 17755"
   ]
  },
  {
   "cell_type": "code",
   "execution_count": 24,
   "metadata": {},
   "outputs": [
    {
     "data": {
      "text/html": [
       "0.51"
      ],
      "text/latex": [
       "0.51"
      ],
      "text/markdown": [
       "0.51"
      ],
      "text/plain": [
       "[1] 0.51"
      ]
     },
     "metadata": {},
     "output_type": "display_data"
    }
   ],
   "source": [
    "# Predicting the Test set results\n",
    "pred_modsig = predict(mod_sig, type = 'response', newdata = test[-12])\n",
    "#find optimal threshold:\n",
    "library(InformationValue)\n",
    "oc <- optimalCutoff(test$class, pred_modsig)[1] \n",
    "oc"
   ]
  },
  {
   "cell_type": "code",
   "execution_count": 30,
   "metadata": {},
   "outputs": [
    {
     "data": {
      "image/png": "[encoded data removed]",
      "text/plain": [
       "plot without title"
      ]
     },
     "metadata": {},
     "output_type": "display_data"
    }
   ],
   "source": [
    "p_class_modsig = ifelse(pred_modsig > oc, 1, 0)\n",
    "#roc.curve(test$class, p_class_modsig)\n",
    "plotROC(test$class, p_class_modsig)"
   ]
  },
  {
   "cell_type": "code",
   "execution_count": 32,
   "metadata": {},
   "outputs": [
    {
     "data": {
      "text/html": [
       "<strong>p_class_modsig:</strong> 'numeric'"
      ],
      "text/latex": [
       "\\textbf{p\\textbackslash{}\\_class\\textbackslash{}\\_modsig:} 'numeric'"
      ],
      "text/markdown": [
       "**p_class_modsig:** 'numeric'"
      ],
      "text/plain": [
       "p_class_modsig \n",
       "     \"numeric\" "
      ]
     },
     "metadata": {},
     "output_type": "display_data"
    },
    {
     "data": {
      "text/html": [
       "<ol class=list-inline>\n",
       "\t<li>1</li>\n",
       "\t<li>0</li>\n",
       "</ol>\n"
      ],
      "text/latex": [
       "\\begin{enumerate*}\n",
       "\\item 1\n",
       "\\item 0\n",
       "\\end{enumerate*}\n"
      ],
      "text/markdown": [
       "1. 1\n",
       "2. 0\n",
       "\n",
       "\n"
      ],
      "text/plain": [
       "[1] 1 0"
      ]
     },
     "metadata": {},
     "output_type": "display_data"
    },
    {
     "data": {
      "text/html": [
       "<strong>p_class_modsig:</strong> 'factor'"
      ],
      "text/latex": [
       "\\textbf{p\\textbackslash{}\\_class\\textbackslash{}\\_modsig:} 'factor'"
      ],
      "text/markdown": [
       "**p_class_modsig:** 'factor'"
      ],
      "text/plain": [
       "p_class_modsig \n",
       "      \"factor\" "
      ]
     },
     "metadata": {},
     "output_type": "display_data"
    }
   ],
   "source": [
    "ypred <- as.data.frame(p_class_modsig)\n",
    "sapply(ypred, class)\n",
    "\n",
    "unique(ypred$p_class_modsig)\n",
    "ypred$p_class_modsig <- factor(ypred$p_class_modsig,\n",
    "                               levels = c('0','1'),\n",
    "                               labels = c(0,1))\n",
    "sapply(ypred, class)"
   ]
  },
  {
   "cell_type": "code",
   "execution_count": 33,
   "metadata": {},
   "outputs": [
    {
     "data": {
      "text/plain": [
       "Confusion Matrix and Statistics\n",
       "\n",
       "          Reference\n",
       "Prediction    0    1\n",
       "         0 8058 1159\n",
       "         1  604 1676\n",
       "                                               \n",
       "               Accuracy : 0.8467               \n",
       "                 95% CI : (0.8399, 0.8532)     \n",
       "    No Information Rate : 0.7534               \n",
       "    P-Value [Acc > NIR] : < 0.00000000000000022\n",
       "                                               \n",
       "                  Kappa : 0.5582               \n",
       " Mcnemar's Test P-Value : < 0.00000000000000022\n",
       "                                               \n",
       "            Sensitivity : 0.5912               \n",
       "            Specificity : 0.9303               \n",
       "         Pos Pred Value : 0.7351               \n",
       "         Neg Pred Value : 0.8743               \n",
       "             Prevalence : 0.2466               \n",
       "         Detection Rate : 0.1458               \n",
       "   Detection Prevalence : 0.1983               \n",
       "      Balanced Accuracy : 0.7607               \n",
       "                                               \n",
       "       'Positive' Class : 1                    \n",
       "                                               "
      ]
     },
     "metadata": {},
     "output_type": "display_data"
    }
   ],
   "source": [
    "confusionMatrix(reference = test$class, data = ypred$p_class_modsig, positive = '1')"
   ]
  },
  {
   "cell_type": "markdown",
   "metadata": {},
   "source": [
    "The Model has performed better than the baseline Accuracy of 75% to now 84.67%.\n",
    "However, the accuracy can be misleading when we have imabalanced classes.\n",
    "Sensitivity has taken a hit, being at 0.5912\n",
    "Specificity looks good at 0.9303\n",
    "Precision would just be average at 0.7351\n",
    "\n",
    "I would like to treat class imbalance and examine results for new training and testing set, and provide EDA as well.\n",
    "This file will be updated."
   ]
  }
 ],
 "metadata": {
  "kernelspec": {
   "display_name": "R",
   "language": "R",
   "name": "ir"
  },
  "language_info": {
   "codemirror_mode": "r",
   "file_extension": ".r",
   "mimetype": "text/x-r-source",
   "name": "R",
   "pygments_lexer": "r",
   "version": "3.5.1"
  }
 },
 "nbformat": 4,
 "nbformat_minor": 2
}
